{
 "cells": [
  {
   "cell_type": "code",
   "execution_count": 1,
   "id": "b3c96ad4",
   "metadata": {},
   "outputs": [
    {
     "name": "stdout",
     "output_type": "stream",
     "text": [
      "Requirement already satisfied: numpy in c:\\users\\hp\\anaconda3\\lib\\site-packages (1.21.5)\n",
      "Note: you may need to restart the kernel to use updated packages.\n"
     ]
    }
   ],
   "source": [
    "pip install numpy"
   ]
  },
  {
   "cell_type": "code",
   "execution_count": 2,
   "id": "91bde1e6",
   "metadata": {},
   "outputs": [],
   "source": [
    "import numpy as np"
   ]
  },
  {
   "cell_type": "code",
   "execution_count": 3,
   "id": "09854c90",
   "metadata": {},
   "outputs": [],
   "source": [
    "ary1 = np.array([100,200,300,400,500])"
   ]
  },
  {
   "cell_type": "code",
   "execution_count": 4,
   "id": "f647f94e",
   "metadata": {},
   "outputs": [
    {
     "data": {
      "text/plain": [
       "array([100, 200, 300, 400, 500])"
      ]
     },
     "execution_count": 4,
     "metadata": {},
     "output_type": "execute_result"
    }
   ],
   "source": [
    "ary1"
   ]
  },
  {
   "cell_type": "code",
   "execution_count": 5,
   "id": "ecb079eb",
   "metadata": {},
   "outputs": [
    {
     "name": "stdout",
     "output_type": "stream",
     "text": [
      "[100 200 300 400 500]\n"
     ]
    }
   ],
   "source": [
    "print(ary1)"
   ]
  },
  {
   "cell_type": "code",
   "execution_count": 6,
   "id": "f8365b8d",
   "metadata": {},
   "outputs": [
    {
     "data": {
      "text/plain": [
       "numpy.ndarray"
      ]
     },
     "execution_count": 6,
     "metadata": {},
     "output_type": "execute_result"
    }
   ],
   "source": [
    "type(ary1)"
   ]
  },
  {
   "cell_type": "code",
   "execution_count": 10,
   "id": "07a79ab5",
   "metadata": {},
   "outputs": [
    {
     "data": {
      "text/plain": [
       "(5,)"
      ]
     },
     "execution_count": 10,
     "metadata": {},
     "output_type": "execute_result"
    }
   ],
   "source": [
    "ary1.shape  # Shape of Array"
   ]
  },
  {
   "cell_type": "code",
   "execution_count": 8,
   "id": "dee72528",
   "metadata": {},
   "outputs": [
    {
     "data": {
      "text/plain": [
       "5"
      ]
     },
     "execution_count": 8,
     "metadata": {},
     "output_type": "execute_result"
    }
   ],
   "source": [
    "ary1.size  # No of Element of Array"
   ]
  },
  {
   "cell_type": "code",
   "execution_count": 9,
   "id": "25e221f3",
   "metadata": {},
   "outputs": [
    {
     "data": {
      "text/plain": [
       "1"
      ]
     },
     "execution_count": 9,
     "metadata": {},
     "output_type": "execute_result"
    }
   ],
   "source": [
    "ary1.ndim  # Dimension"
   ]
  },
  {
   "cell_type": "code",
   "execution_count": 11,
   "id": "e91aba04",
   "metadata": {},
   "outputs": [
    {
     "data": {
      "text/plain": [
       "dtype('int32')"
      ]
     },
     "execution_count": 11,
     "metadata": {},
     "output_type": "execute_result"
    }
   ],
   "source": [
    " ary1.dtype  # Datatype of values of array"
   ]
  },
  {
   "cell_type": "code",
   "execution_count": 13,
   "id": "9d0baea4",
   "metadata": {},
   "outputs": [
    {
     "data": {
      "text/plain": [
       "4"
      ]
     },
     "execution_count": 13,
     "metadata": {},
     "output_type": "execute_result"
    }
   ],
   "source": [
    "ary1.itemsize # Size of value"
   ]
  },
  {
   "cell_type": "markdown",
   "id": "a72d5fe2",
   "metadata": {},
   "source": [
    "###  2D Array using Array()"
   ]
  },
  {
   "cell_type": "code",
   "execution_count": 16,
   "id": "dcd9545b",
   "metadata": {},
   "outputs": [],
   "source": [
    "a2 = np.array([ [11,22,33, 10],[44,55,66,20],[77,88,99,30]  ])"
   ]
  },
  {
   "cell_type": "code",
   "execution_count": 17,
   "id": "12171e26",
   "metadata": {},
   "outputs": [
    {
     "data": {
      "text/plain": [
       "array([[11, 22, 33, 10],\n",
       "       [44, 55, 66, 20],\n",
       "       [77, 88, 99, 30]])"
      ]
     },
     "execution_count": 17,
     "metadata": {},
     "output_type": "execute_result"
    }
   ],
   "source": [
    "a2"
   ]
  },
  {
   "cell_type": "code",
   "execution_count": 18,
   "id": "52346c68",
   "metadata": {},
   "outputs": [
    {
     "data": {
      "text/plain": [
       "(3, 4)"
      ]
     },
     "execution_count": 18,
     "metadata": {},
     "output_type": "execute_result"
    }
   ],
   "source": [
    "a2.shape"
   ]
  },
  {
   "cell_type": "code",
   "execution_count": 19,
   "id": "1963623d",
   "metadata": {},
   "outputs": [
    {
     "data": {
      "text/plain": [
       "2"
      ]
     },
     "execution_count": 19,
     "metadata": {},
     "output_type": "execute_result"
    }
   ],
   "source": [
    "a2.ndim"
   ]
  },
  {
   "cell_type": "code",
   "execution_count": 20,
   "id": "84d710ac",
   "metadata": {},
   "outputs": [
    {
     "data": {
      "text/plain": [
       "12"
      ]
     },
     "execution_count": 20,
     "metadata": {},
     "output_type": "execute_result"
    }
   ],
   "source": [
    "a2.size"
   ]
  },
  {
   "cell_type": "code",
   "execution_count": 21,
   "id": "6993c175",
   "metadata": {},
   "outputs": [
    {
     "data": {
      "text/plain": [
       "dtype('int32')"
      ]
     },
     "execution_count": 21,
     "metadata": {},
     "output_type": "execute_result"
    }
   ],
   "source": [
    "a2.dtype"
   ]
  },
  {
   "cell_type": "code",
   "execution_count": 22,
   "id": "76a88de4",
   "metadata": {},
   "outputs": [
    {
     "data": {
      "text/plain": [
       "4"
      ]
     },
     "execution_count": 22,
     "metadata": {},
     "output_type": "execute_result"
    }
   ],
   "source": [
    "a2.itemsize"
   ]
  },
  {
   "cell_type": "markdown",
   "id": "e9ea6f72",
   "metadata": {},
   "source": [
    "###  One's Function"
   ]
  },
  {
   "cell_type": "code",
   "execution_count": 24,
   "id": "5ff41b3c",
   "metadata": {},
   "outputs": [],
   "source": [
    "ary_ones = np.ones((3,4))"
   ]
  },
  {
   "cell_type": "code",
   "execution_count": 25,
   "id": "4bc9f6d5",
   "metadata": {},
   "outputs": [
    {
     "data": {
      "text/plain": [
       "array([[1., 1., 1., 1.],\n",
       "       [1., 1., 1., 1.],\n",
       "       [1., 1., 1., 1.]])"
      ]
     },
     "execution_count": 25,
     "metadata": {},
     "output_type": "execute_result"
    }
   ],
   "source": [
    "ary_ones"
   ]
  },
  {
   "cell_type": "code",
   "execution_count": 26,
   "id": "b375862d",
   "metadata": {},
   "outputs": [
    {
     "data": {
      "text/plain": [
       "dtype('float64')"
      ]
     },
     "execution_count": 26,
     "metadata": {},
     "output_type": "execute_result"
    }
   ],
   "source": [
    "ary_ones.dtype"
   ]
  },
  {
   "cell_type": "code",
   "execution_count": 27,
   "id": "2464f407",
   "metadata": {},
   "outputs": [
    {
     "data": {
      "text/plain": [
       "(3, 4)"
      ]
     },
     "execution_count": 27,
     "metadata": {},
     "output_type": "execute_result"
    }
   ],
   "source": [
    "ary_ones.shape"
   ]
  },
  {
   "cell_type": "code",
   "execution_count": 28,
   "id": "adefb076",
   "metadata": {},
   "outputs": [
    {
     "data": {
      "text/plain": [
       "2"
      ]
     },
     "execution_count": 28,
     "metadata": {},
     "output_type": "execute_result"
    }
   ],
   "source": [
    "ary_ones.ndim"
   ]
  },
  {
   "cell_type": "code",
   "execution_count": 31,
   "id": "def739df",
   "metadata": {},
   "outputs": [],
   "source": [
    "ary_3d = np.ones((2, 4, 6), dtype=\"int\")"
   ]
  },
  {
   "cell_type": "code",
   "execution_count": 32,
   "id": "58129665",
   "metadata": {},
   "outputs": [
    {
     "data": {
      "text/plain": [
       "array([[[1, 1, 1, 1, 1, 1],\n",
       "        [1, 1, 1, 1, 1, 1],\n",
       "        [1, 1, 1, 1, 1, 1],\n",
       "        [1, 1, 1, 1, 1, 1]],\n",
       "\n",
       "       [[1, 1, 1, 1, 1, 1],\n",
       "        [1, 1, 1, 1, 1, 1],\n",
       "        [1, 1, 1, 1, 1, 1],\n",
       "        [1, 1, 1, 1, 1, 1]]])"
      ]
     },
     "execution_count": 32,
     "metadata": {},
     "output_type": "execute_result"
    }
   ],
   "source": [
    "ary_3d"
   ]
  },
  {
   "cell_type": "code",
   "execution_count": 34,
   "id": "7d1df73d",
   "metadata": {},
   "outputs": [
    {
     "data": {
      "text/plain": [
       "(2, 4, 6)"
      ]
     },
     "execution_count": 34,
     "metadata": {},
     "output_type": "execute_result"
    }
   ],
   "source": [
    "ary_3d.shape"
   ]
  },
  {
   "cell_type": "code",
   "execution_count": 35,
   "id": "fceec18d",
   "metadata": {},
   "outputs": [
    {
     "data": {
      "text/plain": [
       "3"
      ]
     },
     "execution_count": 35,
     "metadata": {},
     "output_type": "execute_result"
    }
   ],
   "source": [
    "ary_3d.ndim"
   ]
  },
  {
   "cell_type": "code",
   "execution_count": 36,
   "id": "95daae1f",
   "metadata": {},
   "outputs": [
    {
     "data": {
      "text/plain": [
       "48"
      ]
     },
     "execution_count": 36,
     "metadata": {},
     "output_type": "execute_result"
    }
   ],
   "source": [
    "ary_3d.size"
   ]
  },
  {
   "cell_type": "code",
   "execution_count": 38,
   "id": "71473655",
   "metadata": {},
   "outputs": [
    {
     "data": {
      "text/plain": [
       "dtype('int32')"
      ]
     },
     "execution_count": 38,
     "metadata": {},
     "output_type": "execute_result"
    }
   ],
   "source": [
    "ary_3d.dtype"
   ]
  },
  {
   "cell_type": "code",
   "execution_count": 41,
   "id": "ceb8c3d9",
   "metadata": {},
   "outputs": [],
   "source": [
    "ary_3d = ary_3d.astype(\"float\")"
   ]
  },
  {
   "cell_type": "code",
   "execution_count": 42,
   "id": "82f08776",
   "metadata": {},
   "outputs": [
    {
     "data": {
      "text/plain": [
       "dtype('float64')"
      ]
     },
     "execution_count": 42,
     "metadata": {},
     "output_type": "execute_result"
    }
   ],
   "source": [
    "ary_3d.dtype"
   ]
  },
  {
   "cell_type": "markdown",
   "id": "d93ad0c8",
   "metadata": {},
   "source": [
    "###  Zeros Function"
   ]
  },
  {
   "cell_type": "code",
   "execution_count": 43,
   "id": "991dec99",
   "metadata": {},
   "outputs": [],
   "source": [
    "ary_zero = np.zeros((4,8))"
   ]
  },
  {
   "cell_type": "code",
   "execution_count": 44,
   "id": "e00eb87d",
   "metadata": {},
   "outputs": [
    {
     "data": {
      "text/plain": [
       "array([[0., 0., 0., 0., 0., 0., 0., 0.],\n",
       "       [0., 0., 0., 0., 0., 0., 0., 0.],\n",
       "       [0., 0., 0., 0., 0., 0., 0., 0.],\n",
       "       [0., 0., 0., 0., 0., 0., 0., 0.]])"
      ]
     },
     "execution_count": 44,
     "metadata": {},
     "output_type": "execute_result"
    }
   ],
   "source": [
    "ary_zero"
   ]
  },
  {
   "cell_type": "code",
   "execution_count": 46,
   "id": "a9037c40",
   "metadata": {},
   "outputs": [],
   "source": [
    "ary_zero[1, 2] = 555"
   ]
  },
  {
   "cell_type": "code",
   "execution_count": 47,
   "id": "ae33ea62",
   "metadata": {},
   "outputs": [
    {
     "data": {
      "text/plain": [
       "array([[  0.,   0.,   0.,   0.,   0.,   0.,   0.,   0.],\n",
       "       [  0.,   0., 555.,   0.,   0.,   0.,   0.,   0.],\n",
       "       [  0.,   0.,   0.,   0.,   0.,   0.,   0.,   0.],\n",
       "       [  0.,   0.,   0.,   0.,   0.,   0.,   0.,   0.]])"
      ]
     },
     "execution_count": 47,
     "metadata": {},
     "output_type": "execute_result"
    }
   ],
   "source": [
    "ary_zero"
   ]
  },
  {
   "cell_type": "markdown",
   "id": "3df58833",
   "metadata": {},
   "source": [
    "###  diagnal Array"
   ]
  },
  {
   "cell_type": "code",
   "execution_count": 48,
   "id": "a97c265a",
   "metadata": {},
   "outputs": [
    {
     "data": {
      "text/plain": [
       "array([[1., 0., 0., 0., 0.],\n",
       "       [0., 1., 0., 0., 0.],\n",
       "       [0., 0., 1., 0., 0.],\n",
       "       [0., 0., 0., 1., 0.],\n",
       "       [0., 0., 0., 0., 1.]])"
      ]
     },
     "execution_count": 48,
     "metadata": {},
     "output_type": "execute_result"
    }
   ],
   "source": [
    "np.eye(5)"
   ]
  },
  {
   "cell_type": "code",
   "execution_count": 49,
   "id": "2dc8076d",
   "metadata": {},
   "outputs": [
    {
     "data": {
      "text/plain": [
       "array([[1., 0., 0., 0., 0., 0., 0., 0.],\n",
       "       [0., 1., 0., 0., 0., 0., 0., 0.],\n",
       "       [0., 0., 1., 0., 0., 0., 0., 0.],\n",
       "       [0., 0., 0., 1., 0., 0., 0., 0.],\n",
       "       [0., 0., 0., 0., 1., 0., 0., 0.]])"
      ]
     },
     "execution_count": 49,
     "metadata": {},
     "output_type": "execute_result"
    }
   ],
   "source": [
    "np.eye(5,8)"
   ]
  },
  {
   "cell_type": "markdown",
   "id": "801fc59e",
   "metadata": {},
   "source": [
    "###  Numerical Arrays\n",
    "\n",
    "####  arange \n",
    "\n",
    "####  linspace"
   ]
  },
  {
   "cell_type": "code",
   "execution_count": 50,
   "id": "63b2a268",
   "metadata": {},
   "outputs": [
    {
     "data": {
      "text/plain": [
       "array([ 1,  3,  5,  7,  9, 11, 13, 15, 17, 19])"
      ]
     },
     "execution_count": 50,
     "metadata": {},
     "output_type": "execute_result"
    }
   ],
   "source": [
    "np.arange(1, 20, 2)"
   ]
  },
  {
   "cell_type": "code",
   "execution_count": 51,
   "id": "8c589e0c",
   "metadata": {},
   "outputs": [
    {
     "data": {
      "text/plain": [
       "array([ 1. ,  3.5,  6. ,  8.5, 11. , 13.5, 16. , 18.5])"
      ]
     },
     "execution_count": 51,
     "metadata": {},
     "output_type": "execute_result"
    }
   ],
   "source": [
    "np.arange(1, 20, 2.5)"
   ]
  },
  {
   "cell_type": "code",
   "execution_count": 52,
   "id": "0c757c36",
   "metadata": {},
   "outputs": [
    {
     "data": {
      "text/plain": [
       "array([10,  9,  8,  7,  6,  5,  4,  3,  2])"
      ]
     },
     "execution_count": 52,
     "metadata": {},
     "output_type": "execute_result"
    }
   ],
   "source": [
    "np.arange(10, 1, -1)"
   ]
  },
  {
   "cell_type": "code",
   "execution_count": 53,
   "id": "6bf7d24e",
   "metadata": {},
   "outputs": [
    {
     "data": {
      "text/plain": [
       "array([], dtype=int32)"
      ]
     },
     "execution_count": 53,
     "metadata": {},
     "output_type": "execute_result"
    }
   ],
   "source": [
    "np.arange(10,20, -1)"
   ]
  },
  {
   "cell_type": "code",
   "execution_count": 54,
   "id": "c8ac5f68",
   "metadata": {},
   "outputs": [
    {
     "data": {
      "text/plain": [
       "array([ 5,  6,  7,  8,  9, 10, 11, 12, 13, 14])"
      ]
     },
     "execution_count": 54,
     "metadata": {},
     "output_type": "execute_result"
    }
   ],
   "source": [
    "np.arange(5,15)"
   ]
  },
  {
   "cell_type": "code",
   "execution_count": 55,
   "id": "dca58fd2",
   "metadata": {},
   "outputs": [
    {
     "data": {
      "text/plain": [
       "array([ 0,  1,  2,  3,  4,  5,  6,  7,  8,  9, 10, 11, 12, 13, 14])"
      ]
     },
     "execution_count": 55,
     "metadata": {},
     "output_type": "execute_result"
    }
   ],
   "source": [
    "np.arange(15)"
   ]
  },
  {
   "cell_type": "code",
   "execution_count": 57,
   "id": "9259bac0",
   "metadata": {},
   "outputs": [],
   "source": [
    "ar_ary = np.arange(1,1000, 2.5)"
   ]
  },
  {
   "cell_type": "code",
   "execution_count": 58,
   "id": "a2055c5b",
   "metadata": {},
   "outputs": [
    {
     "data": {
      "text/plain": [
       "array([  1. ,   3.5,   6. ,   8.5,  11. ,  13.5,  16. ,  18.5,  21. ,\n",
       "        23.5,  26. ,  28.5,  31. ,  33.5,  36. ,  38.5,  41. ,  43.5,\n",
       "        46. ,  48.5,  51. ,  53.5,  56. ,  58.5,  61. ,  63.5,  66. ,\n",
       "        68.5,  71. ,  73.5,  76. ,  78.5,  81. ,  83.5,  86. ,  88.5,\n",
       "        91. ,  93.5,  96. ,  98.5, 101. , 103.5, 106. , 108.5, 111. ,\n",
       "       113.5, 116. , 118.5, 121. , 123.5, 126. , 128.5, 131. , 133.5,\n",
       "       136. , 138.5, 141. , 143.5, 146. , 148.5, 151. , 153.5, 156. ,\n",
       "       158.5, 161. , 163.5, 166. , 168.5, 171. , 173.5, 176. , 178.5,\n",
       "       181. , 183.5, 186. , 188.5, 191. , 193.5, 196. , 198.5, 201. ,\n",
       "       203.5, 206. , 208.5, 211. , 213.5, 216. , 218.5, 221. , 223.5,\n",
       "       226. , 228.5, 231. , 233.5, 236. , 238.5, 241. , 243.5, 246. ,\n",
       "       248.5, 251. , 253.5, 256. , 258.5, 261. , 263.5, 266. , 268.5,\n",
       "       271. , 273.5, 276. , 278.5, 281. , 283.5, 286. , 288.5, 291. ,\n",
       "       293.5, 296. , 298.5, 301. , 303.5, 306. , 308.5, 311. , 313.5,\n",
       "       316. , 318.5, 321. , 323.5, 326. , 328.5, 331. , 333.5, 336. ,\n",
       "       338.5, 341. , 343.5, 346. , 348.5, 351. , 353.5, 356. , 358.5,\n",
       "       361. , 363.5, 366. , 368.5, 371. , 373.5, 376. , 378.5, 381. ,\n",
       "       383.5, 386. , 388.5, 391. , 393.5, 396. , 398.5, 401. , 403.5,\n",
       "       406. , 408.5, 411. , 413.5, 416. , 418.5, 421. , 423.5, 426. ,\n",
       "       428.5, 431. , 433.5, 436. , 438.5, 441. , 443.5, 446. , 448.5,\n",
       "       451. , 453.5, 456. , 458.5, 461. , 463.5, 466. , 468.5, 471. ,\n",
       "       473.5, 476. , 478.5, 481. , 483.5, 486. , 488.5, 491. , 493.5,\n",
       "       496. , 498.5, 501. , 503.5, 506. , 508.5, 511. , 513.5, 516. ,\n",
       "       518.5, 521. , 523.5, 526. , 528.5, 531. , 533.5, 536. , 538.5,\n",
       "       541. , 543.5, 546. , 548.5, 551. , 553.5, 556. , 558.5, 561. ,\n",
       "       563.5, 566. , 568.5, 571. , 573.5, 576. , 578.5, 581. , 583.5,\n",
       "       586. , 588.5, 591. , 593.5, 596. , 598.5, 601. , 603.5, 606. ,\n",
       "       608.5, 611. , 613.5, 616. , 618.5, 621. , 623.5, 626. , 628.5,\n",
       "       631. , 633.5, 636. , 638.5, 641. , 643.5, 646. , 648.5, 651. ,\n",
       "       653.5, 656. , 658.5, 661. , 663.5, 666. , 668.5, 671. , 673.5,\n",
       "       676. , 678.5, 681. , 683.5, 686. , 688.5, 691. , 693.5, 696. ,\n",
       "       698.5, 701. , 703.5, 706. , 708.5, 711. , 713.5, 716. , 718.5,\n",
       "       721. , 723.5, 726. , 728.5, 731. , 733.5, 736. , 738.5, 741. ,\n",
       "       743.5, 746. , 748.5, 751. , 753.5, 756. , 758.5, 761. , 763.5,\n",
       "       766. , 768.5, 771. , 773.5, 776. , 778.5, 781. , 783.5, 786. ,\n",
       "       788.5, 791. , 793.5, 796. , 798.5, 801. , 803.5, 806. , 808.5,\n",
       "       811. , 813.5, 816. , 818.5, 821. , 823.5, 826. , 828.5, 831. ,\n",
       "       833.5, 836. , 838.5, 841. , 843.5, 846. , 848.5, 851. , 853.5,\n",
       "       856. , 858.5, 861. , 863.5, 866. , 868.5, 871. , 873.5, 876. ,\n",
       "       878.5, 881. , 883.5, 886. , 888.5, 891. , 893.5, 896. , 898.5,\n",
       "       901. , 903.5, 906. , 908.5, 911. , 913.5, 916. , 918.5, 921. ,\n",
       "       923.5, 926. , 928.5, 931. , 933.5, 936. , 938.5, 941. , 943.5,\n",
       "       946. , 948.5, 951. , 953.5, 956. , 958.5, 961. , 963.5, 966. ,\n",
       "       968.5, 971. , 973.5, 976. , 978.5, 981. , 983.5, 986. , 988.5,\n",
       "       991. , 993.5, 996. , 998.5])"
      ]
     },
     "execution_count": 58,
     "metadata": {},
     "output_type": "execute_result"
    }
   ],
   "source": [
    "ar_ary"
   ]
  },
  {
   "cell_type": "code",
   "execution_count": 59,
   "id": "0a481404",
   "metadata": {},
   "outputs": [
    {
     "data": {
      "text/plain": [
       "1"
      ]
     },
     "execution_count": 59,
     "metadata": {},
     "output_type": "execute_result"
    }
   ],
   "source": [
    "ar_ary.ndim"
   ]
  },
  {
   "cell_type": "code",
   "execution_count": 60,
   "id": "17b6dd80",
   "metadata": {},
   "outputs": [
    {
     "data": {
      "text/plain": [
       "(400,)"
      ]
     },
     "execution_count": 60,
     "metadata": {},
     "output_type": "execute_result"
    }
   ],
   "source": [
    "ar_ary.shape"
   ]
  },
  {
   "cell_type": "code",
   "execution_count": 61,
   "id": "511559b6",
   "metadata": {},
   "outputs": [
    {
     "data": {
      "text/plain": [
       "400"
      ]
     },
     "execution_count": 61,
     "metadata": {},
     "output_type": "execute_result"
    }
   ],
   "source": [
    "ar_ary.size"
   ]
  },
  {
   "cell_type": "markdown",
   "id": "e08b0c25",
   "metadata": {},
   "source": [
    "###  Linspace"
   ]
  },
  {
   "cell_type": "code",
   "execution_count": 62,
   "id": "c4725ff6",
   "metadata": {},
   "outputs": [
    {
     "data": {
      "text/plain": [
       "array([ 1.        ,  1.18367347,  1.36734694,  1.55102041,  1.73469388,\n",
       "        1.91836735,  2.10204082,  2.28571429,  2.46938776,  2.65306122,\n",
       "        2.83673469,  3.02040816,  3.20408163,  3.3877551 ,  3.57142857,\n",
       "        3.75510204,  3.93877551,  4.12244898,  4.30612245,  4.48979592,\n",
       "        4.67346939,  4.85714286,  5.04081633,  5.2244898 ,  5.40816327,\n",
       "        5.59183673,  5.7755102 ,  5.95918367,  6.14285714,  6.32653061,\n",
       "        6.51020408,  6.69387755,  6.87755102,  7.06122449,  7.24489796,\n",
       "        7.42857143,  7.6122449 ,  7.79591837,  7.97959184,  8.16326531,\n",
       "        8.34693878,  8.53061224,  8.71428571,  8.89795918,  9.08163265,\n",
       "        9.26530612,  9.44897959,  9.63265306,  9.81632653, 10.        ])"
      ]
     },
     "execution_count": 62,
     "metadata": {},
     "output_type": "execute_result"
    }
   ],
   "source": [
    "np.linspace(1, 10)"
   ]
  },
  {
   "cell_type": "code",
   "execution_count": 64,
   "id": "763c295e",
   "metadata": {},
   "outputs": [],
   "source": [
    "lin_ary = np.linspace(1, 10, 20)"
   ]
  },
  {
   "cell_type": "code",
   "execution_count": 65,
   "id": "11f70527",
   "metadata": {},
   "outputs": [
    {
     "data": {
      "text/plain": [
       "(20,)"
      ]
     },
     "execution_count": 65,
     "metadata": {},
     "output_type": "execute_result"
    }
   ],
   "source": [
    "lin_ary.shape"
   ]
  },
  {
   "cell_type": "code",
   "execution_count": 66,
   "id": "86b119f7",
   "metadata": {},
   "outputs": [
    {
     "data": {
      "text/plain": [
       "1"
      ]
     },
     "execution_count": 66,
     "metadata": {},
     "output_type": "execute_result"
    }
   ],
   "source": [
    "lin_ary.ndim"
   ]
  },
  {
   "cell_type": "code",
   "execution_count": 67,
   "id": "6ec2a7ea",
   "metadata": {},
   "outputs": [
    {
     "data": {
      "text/plain": [
       "array([1.  , 1.18, 1.36, 1.54, 1.72, 1.9 , 2.08, 2.26, 2.44, 2.62, 2.8 ,\n",
       "       2.98, 3.16, 3.34, 3.52, 3.7 , 3.88, 4.06, 4.24, 4.42, 4.6 , 4.78,\n",
       "       4.96, 5.14, 5.32, 5.5 , 5.68, 5.86, 6.04, 6.22, 6.4 , 6.58, 6.76,\n",
       "       6.94, 7.12, 7.3 , 7.48, 7.66, 7.84, 8.02, 8.2 , 8.38, 8.56, 8.74,\n",
       "       8.92, 9.1 , 9.28, 9.46, 9.64, 9.82])"
      ]
     },
     "execution_count": 67,
     "metadata": {},
     "output_type": "execute_result"
    }
   ],
   "source": [
    "np.linspace(1, 10, endpoint=False)"
   ]
  },
  {
   "cell_type": "code",
   "execution_count": 68,
   "id": "c6bb6066",
   "metadata": {},
   "outputs": [
    {
     "data": {
      "text/plain": [
       "(array([ 1.        ,  1.18367347,  1.36734694,  1.55102041,  1.73469388,\n",
       "         1.91836735,  2.10204082,  2.28571429,  2.46938776,  2.65306122,\n",
       "         2.83673469,  3.02040816,  3.20408163,  3.3877551 ,  3.57142857,\n",
       "         3.75510204,  3.93877551,  4.12244898,  4.30612245,  4.48979592,\n",
       "         4.67346939,  4.85714286,  5.04081633,  5.2244898 ,  5.40816327,\n",
       "         5.59183673,  5.7755102 ,  5.95918367,  6.14285714,  6.32653061,\n",
       "         6.51020408,  6.69387755,  6.87755102,  7.06122449,  7.24489796,\n",
       "         7.42857143,  7.6122449 ,  7.79591837,  7.97959184,  8.16326531,\n",
       "         8.34693878,  8.53061224,  8.71428571,  8.89795918,  9.08163265,\n",
       "         9.26530612,  9.44897959,  9.63265306,  9.81632653, 10.        ]),\n",
       " 0.1836734693877551)"
      ]
     },
     "execution_count": 68,
     "metadata": {},
     "output_type": "execute_result"
    }
   ],
   "source": [
    "np.linspace(1,10, retstep=True)"
   ]
  },
  {
   "cell_type": "code",
   "execution_count": null,
   "id": "b055f549",
   "metadata": {},
   "outputs": [],
   "source": []
  }
 ],
 "metadata": {
  "kernelspec": {
   "display_name": "Python 3 (ipykernel)",
   "language": "python",
   "name": "python3"
  },
  "language_info": {
   "codemirror_mode": {
    "name": "ipython",
    "version": 3
   },
   "file_extension": ".py",
   "mimetype": "text/x-python",
   "name": "python",
   "nbconvert_exporter": "python",
   "pygments_lexer": "ipython3",
   "version": "3.9.13"
  }
 },
 "nbformat": 4,
 "nbformat_minor": 5
}
