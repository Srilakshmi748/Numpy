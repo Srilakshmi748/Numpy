{
 "cells": [
  {
   "cell_type": "markdown",
   "id": "d7ce87ae",
   "metadata": {},
   "source": [
    "###  Reshape"
   ]
  },
  {
   "cell_type": "code",
   "execution_count": 2,
   "id": "3eddd80e",
   "metadata": {},
   "outputs": [],
   "source": [
    "import numpy as np"
   ]
  },
  {
   "cell_type": "code",
   "execution_count": 3,
   "id": "d98a32e4",
   "metadata": {},
   "outputs": [],
   "source": [
    "ary2 = np.random.randint(100,150,(4,6))"
   ]
  },
  {
   "cell_type": "code",
   "execution_count": 4,
   "id": "55d1b50c",
   "metadata": {},
   "outputs": [
    {
     "data": {
      "text/plain": [
       "array([[102, 110, 131, 100, 112, 137],\n",
       "       [119, 130, 134, 132, 117, 111],\n",
       "       [128, 121, 120, 107, 126, 111],\n",
       "       [110, 127, 110, 142, 135, 146]])"
      ]
     },
     "execution_count": 4,
     "metadata": {},
     "output_type": "execute_result"
    }
   ],
   "source": [
    "ary2"
   ]
  },
  {
   "cell_type": "code",
   "execution_count": 5,
   "id": "f8b5bd87",
   "metadata": {},
   "outputs": [
    {
     "data": {
      "text/plain": [
       "(4, 6)"
      ]
     },
     "execution_count": 5,
     "metadata": {},
     "output_type": "execute_result"
    }
   ],
   "source": [
    "ary2.shape"
   ]
  },
  {
   "cell_type": "code",
   "execution_count": 6,
   "id": "80735c64",
   "metadata": {},
   "outputs": [
    {
     "data": {
      "text/plain": [
       "24"
      ]
     },
     "execution_count": 6,
     "metadata": {},
     "output_type": "execute_result"
    }
   ],
   "source": [
    "ary2.size"
   ]
  },
  {
   "cell_type": "code",
   "execution_count": 9,
   "id": "2fbb8908",
   "metadata": {},
   "outputs": [],
   "source": [
    "ary3 = ary2.reshape(2,2,6)"
   ]
  },
  {
   "cell_type": "code",
   "execution_count": 10,
   "id": "ee523069",
   "metadata": {},
   "outputs": [
    {
     "data": {
      "text/plain": [
       "array([[102, 110, 131, 100, 112, 137],\n",
       "       [119, 130, 134, 132, 117, 111],\n",
       "       [128, 121, 120, 107, 126, 111],\n",
       "       [110, 127, 110, 142, 135, 146]])"
      ]
     },
     "execution_count": 10,
     "metadata": {},
     "output_type": "execute_result"
    }
   ],
   "source": [
    "ary2"
   ]
  },
  {
   "cell_type": "code",
   "execution_count": 11,
   "id": "5ec1bbb2",
   "metadata": {},
   "outputs": [
    {
     "data": {
      "text/plain": [
       "array([[[102, 110, 131, 100, 112, 137],\n",
       "        [119, 130, 134, 132, 117, 111]],\n",
       "\n",
       "       [[128, 121, 120, 107, 126, 111],\n",
       "        [110, 127, 110, 142, 135, 146]]])"
      ]
     },
     "execution_count": 11,
     "metadata": {},
     "output_type": "execute_result"
    }
   ],
   "source": [
    "ary3"
   ]
  },
  {
   "cell_type": "code",
   "execution_count": 14,
   "id": "b97aeda6",
   "metadata": {},
   "outputs": [
    {
     "data": {
      "text/plain": [
       "(4, 6)"
      ]
     },
     "execution_count": 14,
     "metadata": {},
     "output_type": "execute_result"
    }
   ],
   "source": [
    "ary2.shape"
   ]
  },
  {
   "cell_type": "code",
   "execution_count": 15,
   "id": "e87a3b4b",
   "metadata": {},
   "outputs": [
    {
     "data": {
      "text/plain": [
       "(2, 2, 6)"
      ]
     },
     "execution_count": 15,
     "metadata": {},
     "output_type": "execute_result"
    }
   ],
   "source": [
    "ary3.shape"
   ]
  },
  {
   "cell_type": "code",
   "execution_count": 16,
   "id": "bccd6fd5",
   "metadata": {},
   "outputs": [
    {
     "data": {
      "text/plain": [
       "24"
      ]
     },
     "execution_count": 16,
     "metadata": {},
     "output_type": "execute_result"
    }
   ],
   "source": [
    "ary3.size"
   ]
  },
  {
   "cell_type": "code",
   "execution_count": 17,
   "id": "fa905d60",
   "metadata": {},
   "outputs": [
    {
     "data": {
      "text/plain": [
       "24"
      ]
     },
     "execution_count": 17,
     "metadata": {},
     "output_type": "execute_result"
    }
   ],
   "source": [
    "ary2.size"
   ]
  },
  {
   "cell_type": "code",
   "execution_count": 18,
   "id": "a7750a41",
   "metadata": {},
   "outputs": [
    {
     "data": {
      "text/plain": [
       "(2, 2, 6)"
      ]
     },
     "execution_count": 18,
     "metadata": {},
     "output_type": "execute_result"
    }
   ],
   "source": [
    "ary3.shape"
   ]
  },
  {
   "cell_type": "code",
   "execution_count": 20,
   "id": "81cf03e6",
   "metadata": {},
   "outputs": [],
   "source": [
    "ary4 = ary3.reshape(2,12)"
   ]
  },
  {
   "cell_type": "code",
   "execution_count": 21,
   "id": "91d5c8df",
   "metadata": {},
   "outputs": [
    {
     "data": {
      "text/plain": [
       "array([[102, 110, 131, 100, 112, 137, 119, 130, 134, 132, 117, 111],\n",
       "       [128, 121, 120, 107, 126, 111, 110, 127, 110, 142, 135, 146]])"
      ]
     },
     "execution_count": 21,
     "metadata": {},
     "output_type": "execute_result"
    }
   ],
   "source": [
    "ary4"
   ]
  },
  {
   "cell_type": "code",
   "execution_count": 22,
   "id": "1b3fa935",
   "metadata": {},
   "outputs": [
    {
     "data": {
      "text/plain": [
       "array([[[102, 110, 131, 100, 112, 137],\n",
       "        [119, 130, 134, 132, 117, 111]],\n",
       "\n",
       "       [[128, 121, 120, 107, 126, 111],\n",
       "        [110, 127, 110, 142, 135, 146]]])"
      ]
     },
     "execution_count": 22,
     "metadata": {},
     "output_type": "execute_result"
    }
   ],
   "source": [
    "ary3"
   ]
  },
  {
   "cell_type": "code",
   "execution_count": 23,
   "id": "83280cfa",
   "metadata": {},
   "outputs": [
    {
     "data": {
      "text/plain": [
       "array([[[102, 110, 131, 100, 112, 137],\n",
       "        [119, 130, 134, 132, 117, 111]],\n",
       "\n",
       "       [[128, 121, 120, 107, 126, 111],\n",
       "        [110, 127, 110, 142, 135, 146]]])"
      ]
     },
     "execution_count": 23,
     "metadata": {},
     "output_type": "execute_result"
    }
   ],
   "source": [
    "ary3"
   ]
  },
  {
   "cell_type": "code",
   "execution_count": 24,
   "id": "4e2f7c46",
   "metadata": {},
   "outputs": [
    {
     "data": {
      "text/plain": [
       "24"
      ]
     },
     "execution_count": 24,
     "metadata": {},
     "output_type": "execute_result"
    }
   ],
   "source": [
    "ary3.size"
   ]
  },
  {
   "cell_type": "code",
   "execution_count": 25,
   "id": "83392565",
   "metadata": {},
   "outputs": [
    {
     "ename": "ValueError",
     "evalue": "cannot reshape array of size 24 into shape (4,8)",
     "output_type": "error",
     "traceback": [
      "\u001b[1;31m---------------------------------------------------------------------------\u001b[0m",
      "\u001b[1;31mValueError\u001b[0m                                Traceback (most recent call last)",
      "\u001b[1;32m~\\AppData\\Local\\Temp\\ipykernel_21780\\3905628627.py\u001b[0m in \u001b[0;36m<module>\u001b[1;34m\u001b[0m\n\u001b[1;32m----> 1\u001b[1;33m \u001b[0mary3\u001b[0m\u001b[1;33m.\u001b[0m\u001b[0mreshape\u001b[0m\u001b[1;33m(\u001b[0m\u001b[1;36m4\u001b[0m\u001b[1;33m,\u001b[0m\u001b[1;36m8\u001b[0m\u001b[1;33m)\u001b[0m\u001b[1;33m\u001b[0m\u001b[1;33m\u001b[0m\u001b[0m\n\u001b[0m",
      "\u001b[1;31mValueError\u001b[0m: cannot reshape array of size 24 into shape (4,8)"
     ]
    }
   ],
   "source": [
    "ary3.reshape(4,8)"
   ]
  },
  {
   "cell_type": "markdown",
   "id": "5f592522",
   "metadata": {},
   "source": [
    "###  Resize"
   ]
  },
  {
   "cell_type": "code",
   "execution_count": 26,
   "id": "9afffa49",
   "metadata": {},
   "outputs": [
    {
     "data": {
      "text/plain": [
       "array([[102, 110, 131, 100, 112, 137],\n",
       "       [119, 130, 134, 132, 117, 111],\n",
       "       [128, 121, 120, 107, 126, 111],\n",
       "       [110, 127, 110, 142, 135, 146]])"
      ]
     },
     "execution_count": 26,
     "metadata": {},
     "output_type": "execute_result"
    }
   ],
   "source": [
    "ary2"
   ]
  },
  {
   "cell_type": "code",
   "execution_count": 27,
   "id": "173924bf",
   "metadata": {},
   "outputs": [
    {
     "data": {
      "text/plain": [
       "(4, 6)"
      ]
     },
     "execution_count": 27,
     "metadata": {},
     "output_type": "execute_result"
    }
   ],
   "source": [
    "ary2.shape"
   ]
  },
  {
   "cell_type": "code",
   "execution_count": 28,
   "id": "6735d1b2",
   "metadata": {},
   "outputs": [],
   "source": [
    "ary2.resize(12,2)"
   ]
  },
  {
   "cell_type": "code",
   "execution_count": 29,
   "id": "9e9ba14c",
   "metadata": {},
   "outputs": [
    {
     "data": {
      "text/plain": [
       "(12, 2)"
      ]
     },
     "execution_count": 29,
     "metadata": {},
     "output_type": "execute_result"
    }
   ],
   "source": [
    "ary2.shape"
   ]
  },
  {
   "cell_type": "code",
   "execution_count": 30,
   "id": "44d65edb",
   "metadata": {},
   "outputs": [
    {
     "data": {
      "text/plain": [
       "array([[102, 110],\n",
       "       [131, 100],\n",
       "       [112, 137],\n",
       "       [119, 130],\n",
       "       [134, 132],\n",
       "       [117, 111],\n",
       "       [128, 121],\n",
       "       [120, 107],\n",
       "       [126, 111],\n",
       "       [110, 127],\n",
       "       [110, 142],\n",
       "       [135, 146]])"
      ]
     },
     "execution_count": 30,
     "metadata": {},
     "output_type": "execute_result"
    }
   ],
   "source": [
    "ary2"
   ]
  },
  {
   "cell_type": "code",
   "execution_count": 32,
   "id": "3a6781ab",
   "metadata": {},
   "outputs": [
    {
     "data": {
      "text/plain": [
       "(12, 2)"
      ]
     },
     "execution_count": 32,
     "metadata": {},
     "output_type": "execute_result"
    }
   ],
   "source": [
    "ary2.shape"
   ]
  },
  {
   "cell_type": "code",
   "execution_count": 31,
   "id": "d0d15374",
   "metadata": {},
   "outputs": [
    {
     "data": {
      "text/plain": [
       "24"
      ]
     },
     "execution_count": 31,
     "metadata": {},
     "output_type": "execute_result"
    }
   ],
   "source": [
    "ary2.size"
   ]
  },
  {
   "cell_type": "code",
   "execution_count": 34,
   "id": "9549c4b6",
   "metadata": {},
   "outputs": [],
   "source": [
    "ary2.resize((4,8),refcheck = False)"
   ]
  },
  {
   "cell_type": "code",
   "execution_count": 35,
   "id": "5875d6c8",
   "metadata": {},
   "outputs": [
    {
     "data": {
      "text/plain": [
       "array([[102, 110, 131, 100, 112, 137, 119, 130],\n",
       "       [134, 132, 117, 111, 128, 121, 120, 107],\n",
       "       [126, 111, 110, 127, 110, 142, 135, 146],\n",
       "       [  0,   0,   0,   0,   0,   0,   0,   0]])"
      ]
     },
     "execution_count": 35,
     "metadata": {},
     "output_type": "execute_result"
    }
   ],
   "source": [
    "ary2"
   ]
  },
  {
   "cell_type": "code",
   "execution_count": 36,
   "id": "5a0e0781",
   "metadata": {},
   "outputs": [
    {
     "data": {
      "text/plain": [
       "array([[[50, 48, 50, 51, 45, 48],\n",
       "        [51, 45, 50, 52, 84, 48]],\n",
       "\n",
       "       [[52, 58, 53, 50, 58, 49],\n",
       "        [49, 46, 56, 49, 53, 90]]])"
      ]
     },
     "execution_count": 36,
     "metadata": {},
     "output_type": "execute_result"
    }
   ],
   "source": [
    "ary3"
   ]
  },
  {
   "cell_type": "code",
   "execution_count": 37,
   "id": "f661d1de",
   "metadata": {},
   "outputs": [
    {
     "data": {
      "text/plain": [
       "(2, 2, 6)"
      ]
     },
     "execution_count": 37,
     "metadata": {},
     "output_type": "execute_result"
    }
   ],
   "source": [
    "ary3.shape"
   ]
  },
  {
   "cell_type": "code",
   "execution_count": 38,
   "id": "0a61cc8a",
   "metadata": {},
   "outputs": [],
   "source": [
    "ary3.resize(4,6)"
   ]
  },
  {
   "cell_type": "code",
   "execution_count": 39,
   "id": "66eaec87",
   "metadata": {},
   "outputs": [
    {
     "data": {
      "text/plain": [
       "array([[-2135210552,         567,          50,           0,           0,\n",
       "                  0],\n",
       "       [          0,           0,           0,          52,  1852990827,\n",
       "          875457637],\n",
       "       [  809001315,   758331185,   943285091,   808662061,   828452144,\n",
       "          908932409],\n",
       "       [  825373537,   892822625,   778122295,  1952543859,       29557,\n",
       "                 90]])"
      ]
     },
     "execution_count": 39,
     "metadata": {},
     "output_type": "execute_result"
    }
   ],
   "source": [
    "ary3"
   ]
  },
  {
   "cell_type": "code",
   "execution_count": 40,
   "id": "f7ad383e",
   "metadata": {},
   "outputs": [
    {
     "data": {
      "text/plain": [
       "array([[-2135210552,         567,          64,           0,           0,\n",
       "                  0,           0,           0,           0,          52,\n",
       "         1717908017,  1701012278],\n",
       "       [ 1667445557,   828728113,   943143266,   842020659,  1684420917,\n",
       "         1667446072,   808596067,  1664430129,  1681285688,   912417332,\n",
       "          808923233,  1717975137]])"
      ]
     },
     "execution_count": 40,
     "metadata": {},
     "output_type": "execute_result"
    }
   ],
   "source": [
    "ary4"
   ]
  },
  {
   "cell_type": "code",
   "execution_count": 41,
   "id": "10b7962b",
   "metadata": {},
   "outputs": [],
   "source": [
    "ary3 = np.random.randint(100,200,(4,6))"
   ]
  },
  {
   "cell_type": "code",
   "execution_count": 42,
   "id": "5c9e8961",
   "metadata": {},
   "outputs": [
    {
     "data": {
      "text/plain": [
       "array([[126, 176, 100, 190, 143, 173],\n",
       "       [160, 187, 107, 190, 152, 145],\n",
       "       [187, 197, 136, 198, 165, 195],\n",
       "       [118, 169, 145, 101, 145, 180]])"
      ]
     },
     "execution_count": 42,
     "metadata": {},
     "output_type": "execute_result"
    }
   ],
   "source": [
    "ary3"
   ]
  },
  {
   "cell_type": "code",
   "execution_count": 45,
   "id": "dc5084cd",
   "metadata": {},
   "outputs": [
    {
     "data": {
      "text/plain": [
       "array([[126, 176, 100, 190, 143, 173],\n",
       "       [160, 187, 107, 190, 152, 145],\n",
       "       [187, 197, 136, 198, 165, 195],\n",
       "       [118, 169, 145, 101, 145, 180],\n",
       "       [126, 176, 100, 190, 143, 173],\n",
       "       [160, 187, 107, 190, 152, 145]])"
      ]
     },
     "execution_count": 45,
     "metadata": {},
     "output_type": "execute_result"
    }
   ],
   "source": [
    "np.resize(ary3,(6,6) )"
   ]
  },
  {
   "cell_type": "markdown",
   "id": "0b2bd258",
   "metadata": {},
   "source": [
    "### Transpose"
   ]
  },
  {
   "cell_type": "code",
   "execution_count": 47,
   "id": "f1bc34b4",
   "metadata": {},
   "outputs": [],
   "source": [
    "ary2 = np.random.randint(100,200,(4,7))"
   ]
  },
  {
   "cell_type": "code",
   "execution_count": 48,
   "id": "a23eb2f4",
   "metadata": {},
   "outputs": [
    {
     "data": {
      "text/plain": [
       "array([[108, 108, 131, 161, 155, 188, 100],\n",
       "       [123, 120, 134, 147, 112, 186, 128],\n",
       "       [197, 138, 115, 153, 187, 131, 151],\n",
       "       [156, 123, 136, 162, 182, 145, 101]])"
      ]
     },
     "execution_count": 48,
     "metadata": {},
     "output_type": "execute_result"
    }
   ],
   "source": [
    "ary2"
   ]
  },
  {
   "cell_type": "code",
   "execution_count": 49,
   "id": "92bd26de",
   "metadata": {},
   "outputs": [
    {
     "data": {
      "text/plain": [
       "(4, 7)"
      ]
     },
     "execution_count": 49,
     "metadata": {},
     "output_type": "execute_result"
    }
   ],
   "source": [
    "ary2.shape"
   ]
  },
  {
   "cell_type": "code",
   "execution_count": 50,
   "id": "151d7c5c",
   "metadata": {},
   "outputs": [
    {
     "data": {
      "text/plain": [
       "array([[108, 123, 197, 156],\n",
       "       [108, 120, 138, 123],\n",
       "       [131, 134, 115, 136],\n",
       "       [161, 147, 153, 162],\n",
       "       [155, 112, 187, 182],\n",
       "       [188, 186, 131, 145],\n",
       "       [100, 128, 151, 101]])"
      ]
     },
     "execution_count": 50,
     "metadata": {},
     "output_type": "execute_result"
    }
   ],
   "source": [
    "ary2.transpose()"
   ]
  },
  {
   "cell_type": "code",
   "execution_count": 51,
   "id": "ff00123b",
   "metadata": {},
   "outputs": [
    {
     "data": {
      "text/plain": [
       "(7, 4)"
      ]
     },
     "execution_count": 51,
     "metadata": {},
     "output_type": "execute_result"
    }
   ],
   "source": [
    "ary2.transpose().shape"
   ]
  },
  {
   "cell_type": "code",
   "execution_count": 52,
   "id": "3479d63c",
   "metadata": {},
   "outputs": [
    {
     "data": {
      "text/plain": [
       "array([[108, 123, 197, 156],\n",
       "       [108, 120, 138, 123],\n",
       "       [131, 134, 115, 136],\n",
       "       [161, 147, 153, 162],\n",
       "       [155, 112, 187, 182],\n",
       "       [188, 186, 131, 145],\n",
       "       [100, 128, 151, 101]])"
      ]
     },
     "execution_count": 52,
     "metadata": {},
     "output_type": "execute_result"
    }
   ],
   "source": [
    "ary2.T"
   ]
  },
  {
   "cell_type": "code",
   "execution_count": 53,
   "id": "8f2e3cdc",
   "metadata": {},
   "outputs": [],
   "source": [
    "a3 = np.random.randint(100,200,(2,4,6))"
   ]
  },
  {
   "cell_type": "code",
   "execution_count": 54,
   "id": "5a53e43f",
   "metadata": {},
   "outputs": [
    {
     "data": {
      "text/plain": [
       "array([[[104, 164, 164, 117, 162, 184],\n",
       "        [118, 192, 132, 139, 100, 190],\n",
       "        [103, 171, 152, 149, 162, 184],\n",
       "        [168, 177, 173, 122, 118, 168]],\n",
       "\n",
       "       [[184, 190, 127, 137, 183, 179],\n",
       "        [111, 180, 191, 163, 100, 176],\n",
       "        [121, 195, 121, 169, 143, 138],\n",
       "        [142, 128, 125, 169, 197, 157]]])"
      ]
     },
     "execution_count": 54,
     "metadata": {},
     "output_type": "execute_result"
    }
   ],
   "source": [
    "a3"
   ]
  },
  {
   "cell_type": "code",
   "execution_count": 55,
   "id": "fadec502",
   "metadata": {},
   "outputs": [
    {
     "data": {
      "text/plain": [
       "(2, 4, 6)"
      ]
     },
     "execution_count": 55,
     "metadata": {},
     "output_type": "execute_result"
    }
   ],
   "source": [
    "a3.shape"
   ]
  },
  {
   "cell_type": "code",
   "execution_count": 58,
   "id": "88929292",
   "metadata": {},
   "outputs": [],
   "source": [
    "at = a3.transpose()"
   ]
  },
  {
   "cell_type": "code",
   "execution_count": 59,
   "id": "6b972b0c",
   "metadata": {},
   "outputs": [
    {
     "data": {
      "text/plain": [
       "array([[[104, 184],\n",
       "        [118, 111],\n",
       "        [103, 121],\n",
       "        [168, 142]],\n",
       "\n",
       "       [[164, 190],\n",
       "        [192, 180],\n",
       "        [171, 195],\n",
       "        [177, 128]],\n",
       "\n",
       "       [[164, 127],\n",
       "        [132, 191],\n",
       "        [152, 121],\n",
       "        [173, 125]],\n",
       "\n",
       "       [[117, 137],\n",
       "        [139, 163],\n",
       "        [149, 169],\n",
       "        [122, 169]],\n",
       "\n",
       "       [[162, 183],\n",
       "        [100, 100],\n",
       "        [162, 143],\n",
       "        [118, 197]],\n",
       "\n",
       "       [[184, 179],\n",
       "        [190, 176],\n",
       "        [184, 138],\n",
       "        [168, 157]]])"
      ]
     },
     "execution_count": 59,
     "metadata": {},
     "output_type": "execute_result"
    }
   ],
   "source": [
    "at"
   ]
  },
  {
   "cell_type": "code",
   "execution_count": 60,
   "id": "a5455c95",
   "metadata": {},
   "outputs": [
    {
     "data": {
      "text/plain": [
       "(6, 4, 2)"
      ]
     },
     "execution_count": 60,
     "metadata": {},
     "output_type": "execute_result"
    }
   ],
   "source": [
    "at.shape"
   ]
  },
  {
   "cell_type": "code",
   "execution_count": 63,
   "id": "151ba760",
   "metadata": {},
   "outputs": [
    {
     "data": {
      "text/plain": [
       "(2, 4, 6)"
      ]
     },
     "execution_count": 63,
     "metadata": {},
     "output_type": "execute_result"
    }
   ],
   "source": [
    "a3.shape"
   ]
  },
  {
   "cell_type": "code",
   "execution_count": 64,
   "id": "65a9e962",
   "metadata": {},
   "outputs": [],
   "source": [
    "# 4, 6,2"
   ]
  },
  {
   "cell_type": "code",
   "execution_count": 65,
   "id": "a3521c65",
   "metadata": {},
   "outputs": [
    {
     "data": {
      "text/plain": [
       "array([[[104, 164, 164, 117, 162, 184],\n",
       "        [118, 192, 132, 139, 100, 190],\n",
       "        [103, 171, 152, 149, 162, 184],\n",
       "        [168, 177, 173, 122, 118, 168]],\n",
       "\n",
       "       [[184, 190, 127, 137, 183, 179],\n",
       "        [111, 180, 191, 163, 100, 176],\n",
       "        [121, 195, 121, 169, 143, 138],\n",
       "        [142, 128, 125, 169, 197, 157]]])"
      ]
     },
     "execution_count": 65,
     "metadata": {},
     "output_type": "execute_result"
    }
   ],
   "source": [
    "a3"
   ]
  },
  {
   "cell_type": "code",
   "execution_count": 66,
   "id": "1475b883",
   "metadata": {},
   "outputs": [
    {
     "data": {
      "text/plain": [
       "(2, 4, 6)"
      ]
     },
     "execution_count": 66,
     "metadata": {},
     "output_type": "execute_result"
    }
   ],
   "source": [
    "a3.shape"
   ]
  },
  {
   "cell_type": "code",
   "execution_count": 68,
   "id": "62d7e0a3",
   "metadata": {},
   "outputs": [],
   "source": [
    "a4 = a3.transpose(1,2,0)"
   ]
  },
  {
   "cell_type": "code",
   "execution_count": 69,
   "id": "e45d79d7",
   "metadata": {},
   "outputs": [
    {
     "data": {
      "text/plain": [
       "(2, 4, 6)"
      ]
     },
     "execution_count": 69,
     "metadata": {},
     "output_type": "execute_result"
    }
   ],
   "source": [
    "a3.shape"
   ]
  },
  {
   "cell_type": "code",
   "execution_count": 70,
   "id": "5265af11",
   "metadata": {},
   "outputs": [
    {
     "data": {
      "text/plain": [
       "(4, 6, 2)"
      ]
     },
     "execution_count": 70,
     "metadata": {},
     "output_type": "execute_result"
    }
   ],
   "source": [
    "a4.shape"
   ]
  },
  {
   "cell_type": "code",
   "execution_count": 72,
   "id": "918ff3f8",
   "metadata": {},
   "outputs": [],
   "source": [
    "ary4 = np.random.randint(100,200,(2,4,6,8))"
   ]
  },
  {
   "cell_type": "code",
   "execution_count": 73,
   "id": "9e8fdd8d",
   "metadata": {},
   "outputs": [
    {
     "data": {
      "text/plain": [
       "array([[[[188, 126, 101, 193, 178, 177, 108, 153],\n",
       "         [141, 154, 138, 134, 138, 166, 134, 144],\n",
       "         [151, 197, 111, 123, 196, 195, 165, 116],\n",
       "         [140, 178, 118, 127, 131, 180, 158, 153],\n",
       "         [163, 147, 100, 194, 197, 147, 175, 161],\n",
       "         [180, 197, 162, 173, 109, 146, 106, 152]],\n",
       "\n",
       "        [[170, 181, 186, 184, 194, 191, 121, 122],\n",
       "         [153, 155, 185, 176, 193, 151, 184, 199],\n",
       "         [160, 193, 126, 179, 184, 199, 168, 181],\n",
       "         [112, 121, 122, 133, 154, 199, 162, 176],\n",
       "         [154, 128, 100, 196, 100, 135, 117, 108],\n",
       "         [182, 122, 129, 164, 181, 158, 178, 109]],\n",
       "\n",
       "        [[111, 151, 182, 127, 154, 149, 151, 146],\n",
       "         [122, 151, 106, 195, 103, 145, 195, 155],\n",
       "         [174, 178, 122, 158, 162, 167, 189, 101],\n",
       "         [142, 115, 179, 164, 137, 173, 146, 119],\n",
       "         [103, 179, 162, 128, 142, 127, 135, 102],\n",
       "         [128, 169, 134, 159, 144, 136, 122, 119]],\n",
       "\n",
       "        [[115, 154, 160, 162, 119, 109, 142, 135],\n",
       "         [146, 191, 144, 106, 126, 192, 122, 126],\n",
       "         [110, 112, 116, 193, 166, 124, 129, 184],\n",
       "         [168, 149, 149, 161, 146, 151, 170, 111],\n",
       "         [153, 149, 157, 139, 114, 111, 155, 169],\n",
       "         [162, 176, 196, 120, 151, 106, 173, 111]]],\n",
       "\n",
       "\n",
       "       [[[151, 139, 115, 109, 145, 115, 124, 185],\n",
       "         [157, 161, 144, 181, 116, 125, 114, 195],\n",
       "         [141, 160, 166, 109, 125, 156, 158, 159],\n",
       "         [145, 138, 125, 168, 102, 106, 160, 118],\n",
       "         [149, 143, 152, 148, 159, 185, 161, 198],\n",
       "         [192, 184, 156, 145, 179, 108, 132, 182]],\n",
       "\n",
       "        [[102, 102, 179, 100, 128, 117, 109, 153],\n",
       "         [147, 104, 196, 152, 142, 118, 174, 170],\n",
       "         [193, 125, 165, 156, 155, 170, 190, 105],\n",
       "         [196, 184, 133, 172, 117, 130, 141, 115],\n",
       "         [199, 169, 132, 187, 127, 143, 172, 183],\n",
       "         [185, 165, 190, 179, 199, 195, 156, 115]],\n",
       "\n",
       "        [[181, 184, 120, 158, 142, 152, 174, 153],\n",
       "         [164, 115, 112, 159, 117, 109, 177, 143],\n",
       "         [177, 197, 176, 111, 174, 140, 188, 132],\n",
       "         [199, 160, 125, 102, 120, 147, 198, 136],\n",
       "         [143, 168, 126, 124, 107, 120, 160, 131],\n",
       "         [109, 185, 112, 199, 186, 108, 146, 151]],\n",
       "\n",
       "        [[149, 192, 145, 134, 138, 179, 114, 168],\n",
       "         [192, 122, 110, 198, 118, 179, 139, 135],\n",
       "         [141, 109, 108, 121, 190, 181, 142, 175],\n",
       "         [173, 191, 178, 122, 154, 185, 170, 102],\n",
       "         [142, 139, 104, 174, 124, 110, 157, 116],\n",
       "         [191, 151, 158, 109, 176, 100, 134, 112]]]])"
      ]
     },
     "execution_count": 73,
     "metadata": {},
     "output_type": "execute_result"
    }
   ],
   "source": [
    "ary4"
   ]
  },
  {
   "cell_type": "code",
   "execution_count": 75,
   "id": "3e47c40f",
   "metadata": {},
   "outputs": [],
   "source": [
    "ary5 = ary4.transpose()"
   ]
  },
  {
   "cell_type": "code",
   "execution_count": 76,
   "id": "1bbfbe11",
   "metadata": {},
   "outputs": [
    {
     "data": {
      "text/plain": [
       "(2, 4, 6, 8)"
      ]
     },
     "execution_count": 76,
     "metadata": {},
     "output_type": "execute_result"
    }
   ],
   "source": [
    "ary4.shape"
   ]
  },
  {
   "cell_type": "code",
   "execution_count": 77,
   "id": "9d163f2f",
   "metadata": {},
   "outputs": [
    {
     "data": {
      "text/plain": [
       "(8, 6, 4, 2)"
      ]
     },
     "execution_count": 77,
     "metadata": {},
     "output_type": "execute_result"
    }
   ],
   "source": [
    "ary5.shape"
   ]
  },
  {
   "cell_type": "code",
   "execution_count": 78,
   "id": "6fdbc81c",
   "metadata": {},
   "outputs": [],
   "source": [
    "# 4, 8, 2, 6\n",
    "\n",
    "ary6 = ary4.transpose(1,3,0,2)"
   ]
  },
  {
   "cell_type": "code",
   "execution_count": 79,
   "id": "45345fc6",
   "metadata": {},
   "outputs": [
    {
     "data": {
      "text/plain": [
       "(2, 4, 6, 8)"
      ]
     },
     "execution_count": 79,
     "metadata": {},
     "output_type": "execute_result"
    }
   ],
   "source": [
    "ary4.shape"
   ]
  },
  {
   "cell_type": "code",
   "execution_count": 80,
   "id": "751992fe",
   "metadata": {},
   "outputs": [
    {
     "data": {
      "text/plain": [
       "(4, 8, 2, 6)"
      ]
     },
     "execution_count": 80,
     "metadata": {},
     "output_type": "execute_result"
    }
   ],
   "source": [
    "ary6.shape"
   ]
  },
  {
   "cell_type": "code",
   "execution_count": 81,
   "id": "7e066c21",
   "metadata": {},
   "outputs": [
    {
     "data": {
      "text/plain": [
       "array([[126, 176, 100, 190, 143, 173],\n",
       "       [160, 187, 107, 190, 152, 145],\n",
       "       [187, 197, 136, 198, 165, 195],\n",
       "       [118, 169, 145, 101, 145, 180]])"
      ]
     },
     "execution_count": 81,
     "metadata": {},
     "output_type": "execute_result"
    }
   ],
   "source": [
    "ary3"
   ]
  },
  {
   "cell_type": "code",
   "execution_count": 83,
   "id": "aba49bda",
   "metadata": {},
   "outputs": [
    {
     "data": {
      "text/plain": [
       "(2, 4, 6)"
      ]
     },
     "execution_count": 83,
     "metadata": {},
     "output_type": "execute_result"
    }
   ],
   "source": [
    "a3.shape"
   ]
  },
  {
   "cell_type": "markdown",
   "id": "4aee0054",
   "metadata": {},
   "source": [
    "###  Swapaxes"
   ]
  },
  {
   "cell_type": "code",
   "execution_count": 84,
   "id": "24e3bcad",
   "metadata": {},
   "outputs": [
    {
     "data": {
      "text/plain": [
       "array([[[104, 164, 164, 117, 162, 184],\n",
       "        [184, 190, 127, 137, 183, 179]],\n",
       "\n",
       "       [[118, 192, 132, 139, 100, 190],\n",
       "        [111, 180, 191, 163, 100, 176]],\n",
       "\n",
       "       [[103, 171, 152, 149, 162, 184],\n",
       "        [121, 195, 121, 169, 143, 138]],\n",
       "\n",
       "       [[168, 177, 173, 122, 118, 168],\n",
       "        [142, 128, 125, 169, 197, 157]]])"
      ]
     },
     "execution_count": 84,
     "metadata": {},
     "output_type": "execute_result"
    }
   ],
   "source": [
    "a3.swapaxes(1,0)"
   ]
  },
  {
   "cell_type": "code",
   "execution_count": 85,
   "id": "00773263",
   "metadata": {},
   "outputs": [
    {
     "data": {
      "text/plain": [
       "(4, 2, 6)"
      ]
     },
     "execution_count": 85,
     "metadata": {},
     "output_type": "execute_result"
    }
   ],
   "source": [
    "a3.swapaxes(1,0).shape"
   ]
  },
  {
   "cell_type": "markdown",
   "id": "4de5231e",
   "metadata": {},
   "source": [
    "### Flatten"
   ]
  },
  {
   "cell_type": "code",
   "execution_count": 86,
   "id": "a3d7b118",
   "metadata": {},
   "outputs": [
    {
     "data": {
      "text/plain": [
       "array([[126, 176, 100, 190, 143, 173],\n",
       "       [160, 187, 107, 190, 152, 145],\n",
       "       [187, 197, 136, 198, 165, 195],\n",
       "       [118, 169, 145, 101, 145, 180]])"
      ]
     },
     "execution_count": 86,
     "metadata": {},
     "output_type": "execute_result"
    }
   ],
   "source": [
    "ary3"
   ]
  },
  {
   "cell_type": "code",
   "execution_count": 87,
   "id": "c9c164d6",
   "metadata": {},
   "outputs": [
    {
     "data": {
      "text/plain": [
       "array([126, 176, 100, 190, 143, 173, 160, 187, 107, 190, 152, 145, 187,\n",
       "       197, 136, 198, 165, 195, 118, 169, 145, 101, 145, 180])"
      ]
     },
     "execution_count": 87,
     "metadata": {},
     "output_type": "execute_result"
    }
   ],
   "source": [
    "ary3.flatten()"
   ]
  },
  {
   "cell_type": "code",
   "execution_count": 88,
   "id": "e109a2ed",
   "metadata": {},
   "outputs": [
    {
     "data": {
      "text/plain": [
       "array([126, 160, 187, 118, 176, 187, 197, 169, 100, 107, 136, 145, 190,\n",
       "       190, 198, 101, 143, 152, 165, 145, 173, 145, 195, 180])"
      ]
     },
     "execution_count": 88,
     "metadata": {},
     "output_type": "execute_result"
    }
   ],
   "source": [
    "ary3.flatten(order = \"F\")"
   ]
  },
  {
   "cell_type": "code",
   "execution_count": 89,
   "id": "6d55047f",
   "metadata": {},
   "outputs": [
    {
     "data": {
      "text/plain": [
       "array([[126, 176, 100, 190, 143, 173],\n",
       "       [160, 187, 107, 190, 152, 145],\n",
       "       [187, 197, 136, 198, 165, 195],\n",
       "       [118, 169, 145, 101, 145, 180]])"
      ]
     },
     "execution_count": 89,
     "metadata": {},
     "output_type": "execute_result"
    }
   ],
   "source": [
    "ary3"
   ]
  },
  {
   "cell_type": "markdown",
   "id": "7085cb2b",
   "metadata": {},
   "source": [
    "### Ravel"
   ]
  },
  {
   "cell_type": "code",
   "execution_count": 90,
   "id": "c45ef350",
   "metadata": {},
   "outputs": [
    {
     "data": {
      "text/plain": [
       "array([126, 176, 100, 190, 143, 173, 160, 187, 107, 190, 152, 145, 187,\n",
       "       197, 136, 198, 165, 195, 118, 169, 145, 101, 145, 180])"
      ]
     },
     "execution_count": 90,
     "metadata": {},
     "output_type": "execute_result"
    }
   ],
   "source": [
    "np.ravel(ary3,order=\"C\")"
   ]
  },
  {
   "cell_type": "code",
   "execution_count": 91,
   "id": "c0d0a4d5",
   "metadata": {},
   "outputs": [
    {
     "data": {
      "text/plain": [
       "array([126, 160, 187, 118, 176, 187, 197, 169, 100, 107, 136, 145, 190,\n",
       "       190, 198, 101, 143, 152, 165, 145, 173, 145, 195, 180])"
      ]
     },
     "execution_count": 91,
     "metadata": {},
     "output_type": "execute_result"
    }
   ],
   "source": [
    "np.ravel(ary3,order=\"F\")"
   ]
  },
  {
   "cell_type": "code",
   "execution_count": 94,
   "id": "bf102354",
   "metadata": {},
   "outputs": [],
   "source": [
    "a = np.random.randint(10,20,(8))"
   ]
  },
  {
   "cell_type": "code",
   "execution_count": 95,
   "id": "86a824a7",
   "metadata": {},
   "outputs": [
    {
     "data": {
      "text/plain": [
       "array([18, 16, 10, 15, 16, 11, 10, 11])"
      ]
     },
     "execution_count": 95,
     "metadata": {},
     "output_type": "execute_result"
    }
   ],
   "source": [
    "a"
   ]
  },
  {
   "cell_type": "code",
   "execution_count": 96,
   "id": "ae35a74e",
   "metadata": {},
   "outputs": [
    {
     "data": {
      "text/plain": [
       "dtype('int32')"
      ]
     },
     "execution_count": 96,
     "metadata": {},
     "output_type": "execute_result"
    }
   ],
   "source": [
    "a.dtype"
   ]
  },
  {
   "cell_type": "code",
   "execution_count": 101,
   "id": "7c885671",
   "metadata": {},
   "outputs": [],
   "source": [
    "a = np.array( [18, 16, 10, 15, \"Nan\", 11, 10, 11] )"
   ]
  },
  {
   "cell_type": "code",
   "execution_count": 102,
   "id": "cc9e0b24",
   "metadata": {},
   "outputs": [
    {
     "data": {
      "text/plain": [
       "array(['18', '16', '10', '15', 'Nan', '11', '10', '11'], dtype='<U11')"
      ]
     },
     "execution_count": 102,
     "metadata": {},
     "output_type": "execute_result"
    }
   ],
   "source": [
    "a"
   ]
  },
  {
   "cell_type": "code",
   "execution_count": 103,
   "id": "9f74f58a",
   "metadata": {},
   "outputs": [
    {
     "data": {
      "text/plain": [
       "numpy.ndarray"
      ]
     },
     "execution_count": 103,
     "metadata": {},
     "output_type": "execute_result"
    }
   ],
   "source": [
    "type(a)"
   ]
  },
  {
   "cell_type": "code",
   "execution_count": 104,
   "id": "c3f7a93e",
   "metadata": {},
   "outputs": [
    {
     "ename": "TypeError",
     "evalue": "cannot perform reduce with flexible type",
     "output_type": "error",
     "traceback": [
      "\u001b[1;31m---------------------------------------------------------------------------\u001b[0m",
      "\u001b[1;31mTypeError\u001b[0m                                 Traceback (most recent call last)",
      "\u001b[1;32m~\\AppData\\Local\\Temp\\ipykernel_21780\\1798845826.py\u001b[0m in \u001b[0;36m<module>\u001b[1;34m\u001b[0m\n\u001b[1;32m----> 1\u001b[1;33m \u001b[0ma\u001b[0m\u001b[1;33m.\u001b[0m\u001b[0mmean\u001b[0m\u001b[1;33m(\u001b[0m\u001b[1;33m)\u001b[0m\u001b[1;33m\u001b[0m\u001b[1;33m\u001b[0m\u001b[0m\n\u001b[0m",
      "\u001b[1;32m~\\anaconda3\\lib\\site-packages\\numpy\\core\\_methods.py\u001b[0m in \u001b[0;36m_mean\u001b[1;34m(a, axis, dtype, out, keepdims, where)\u001b[0m\n\u001b[0;32m    177\u001b[0m             \u001b[0mis_float16_result\u001b[0m \u001b[1;33m=\u001b[0m \u001b[1;32mTrue\u001b[0m\u001b[1;33m\u001b[0m\u001b[1;33m\u001b[0m\u001b[0m\n\u001b[0;32m    178\u001b[0m \u001b[1;33m\u001b[0m\u001b[0m\n\u001b[1;32m--> 179\u001b[1;33m     \u001b[0mret\u001b[0m \u001b[1;33m=\u001b[0m \u001b[0mumr_sum\u001b[0m\u001b[1;33m(\u001b[0m\u001b[0marr\u001b[0m\u001b[1;33m,\u001b[0m \u001b[0maxis\u001b[0m\u001b[1;33m,\u001b[0m \u001b[0mdtype\u001b[0m\u001b[1;33m,\u001b[0m \u001b[0mout\u001b[0m\u001b[1;33m,\u001b[0m \u001b[0mkeepdims\u001b[0m\u001b[1;33m,\u001b[0m \u001b[0mwhere\u001b[0m\u001b[1;33m=\u001b[0m\u001b[0mwhere\u001b[0m\u001b[1;33m)\u001b[0m\u001b[1;33m\u001b[0m\u001b[1;33m\u001b[0m\u001b[0m\n\u001b[0m\u001b[0;32m    180\u001b[0m     \u001b[1;32mif\u001b[0m \u001b[0misinstance\u001b[0m\u001b[1;33m(\u001b[0m\u001b[0mret\u001b[0m\u001b[1;33m,\u001b[0m \u001b[0mmu\u001b[0m\u001b[1;33m.\u001b[0m\u001b[0mndarray\u001b[0m\u001b[1;33m)\u001b[0m\u001b[1;33m:\u001b[0m\u001b[1;33m\u001b[0m\u001b[1;33m\u001b[0m\u001b[0m\n\u001b[0;32m    181\u001b[0m         ret = um.true_divide(\n",
      "\u001b[1;31mTypeError\u001b[0m: cannot perform reduce with flexible type"
     ]
    }
   ],
   "source": [
    "a.mean()"
   ]
  },
  {
   "cell_type": "code",
   "execution_count": 105,
   "id": "7e11b143",
   "metadata": {},
   "outputs": [],
   "source": [
    "b  = np.array([10,20,30,40,50])"
   ]
  },
  {
   "cell_type": "code",
   "execution_count": 106,
   "id": "b2f4e784",
   "metadata": {},
   "outputs": [
    {
     "data": {
      "text/plain": [
       "array([10, 20, 30, 40, 50])"
      ]
     },
     "execution_count": 106,
     "metadata": {},
     "output_type": "execute_result"
    }
   ],
   "source": [
    "b"
   ]
  },
  {
   "cell_type": "code",
   "execution_count": 107,
   "id": "d30c5047",
   "metadata": {},
   "outputs": [
    {
     "data": {
      "text/plain": [
       "30.0"
      ]
     },
     "execution_count": 107,
     "metadata": {},
     "output_type": "execute_result"
    }
   ],
   "source": [
    "b.mean()"
   ]
  },
  {
   "cell_type": "code",
   "execution_count": 109,
   "id": "958ca115",
   "metadata": {},
   "outputs": [],
   "source": [
    "b  = np.array([10,20,np.nan,40,50])"
   ]
  },
  {
   "cell_type": "code",
   "execution_count": 110,
   "id": "f95688a5",
   "metadata": {},
   "outputs": [
    {
     "data": {
      "text/plain": [
       "array([10., 20., nan, 40., 50.])"
      ]
     },
     "execution_count": 110,
     "metadata": {},
     "output_type": "execute_result"
    }
   ],
   "source": [
    "b"
   ]
  },
  {
   "cell_type": "code",
   "execution_count": 111,
   "id": "5c5dd7e1",
   "metadata": {},
   "outputs": [
    {
     "data": {
      "text/plain": [
       "nan"
      ]
     },
     "execution_count": 111,
     "metadata": {},
     "output_type": "execute_result"
    }
   ],
   "source": [
    "b.mean()"
   ]
  },
  {
   "cell_type": "code",
   "execution_count": 112,
   "id": "1923d7a8",
   "metadata": {},
   "outputs": [],
   "source": [
    "import pandas as pd"
   ]
  },
  {
   "cell_type": "code",
   "execution_count": 114,
   "id": "440ad71f",
   "metadata": {},
   "outputs": [],
   "source": [
    "d1 = pd.DataFrame(b)"
   ]
  },
  {
   "cell_type": "code",
   "execution_count": 116,
   "id": "b8f873c4",
   "metadata": {},
   "outputs": [
    {
     "data": {
      "text/html": [
       "<div>\n",
       "<style scoped>\n",
       "    .dataframe tbody tr th:only-of-type {\n",
       "        vertical-align: middle;\n",
       "    }\n",
       "\n",
       "    .dataframe tbody tr th {\n",
       "        vertical-align: top;\n",
       "    }\n",
       "\n",
       "    .dataframe thead th {\n",
       "        text-align: right;\n",
       "    }\n",
       "</style>\n",
       "<table border=\"1\" class=\"dataframe\">\n",
       "  <thead>\n",
       "    <tr style=\"text-align: right;\">\n",
       "      <th></th>\n",
       "      <th>0</th>\n",
       "    </tr>\n",
       "  </thead>\n",
       "  <tbody>\n",
       "    <tr>\n",
       "      <th>0</th>\n",
       "      <td>10.0</td>\n",
       "    </tr>\n",
       "    <tr>\n",
       "      <th>1</th>\n",
       "      <td>20.0</td>\n",
       "    </tr>\n",
       "    <tr>\n",
       "      <th>2</th>\n",
       "      <td>NaN</td>\n",
       "    </tr>\n",
       "    <tr>\n",
       "      <th>3</th>\n",
       "      <td>40.0</td>\n",
       "    </tr>\n",
       "    <tr>\n",
       "      <th>4</th>\n",
       "      <td>50.0</td>\n",
       "    </tr>\n",
       "  </tbody>\n",
       "</table>\n",
       "</div>"
      ],
      "text/plain": [
       "      0\n",
       "0  10.0\n",
       "1  20.0\n",
       "2   NaN\n",
       "3  40.0\n",
       "4  50.0"
      ]
     },
     "execution_count": 116,
     "metadata": {},
     "output_type": "execute_result"
    }
   ],
   "source": [
    "d1"
   ]
  },
  {
   "cell_type": "code",
   "execution_count": 115,
   "id": "76137aef",
   "metadata": {},
   "outputs": [
    {
     "data": {
      "text/plain": [
       "0    30.0\n",
       "dtype: float64"
      ]
     },
     "execution_count": 115,
     "metadata": {},
     "output_type": "execute_result"
    }
   ],
   "source": [
    "d1.mean()"
   ]
  },
  {
   "cell_type": "code",
   "execution_count": 117,
   "id": "109981bc",
   "metadata": {},
   "outputs": [
    {
     "data": {
      "text/html": [
       "<div>\n",
       "<style scoped>\n",
       "    .dataframe tbody tr th:only-of-type {\n",
       "        vertical-align: middle;\n",
       "    }\n",
       "\n",
       "    .dataframe tbody tr th {\n",
       "        vertical-align: top;\n",
       "    }\n",
       "\n",
       "    .dataframe thead th {\n",
       "        text-align: right;\n",
       "    }\n",
       "</style>\n",
       "<table border=\"1\" class=\"dataframe\">\n",
       "  <thead>\n",
       "    <tr style=\"text-align: right;\">\n",
       "      <th></th>\n",
       "      <th>0</th>\n",
       "    </tr>\n",
       "  </thead>\n",
       "  <tbody>\n",
       "    <tr>\n",
       "      <th>0</th>\n",
       "      <td>10.0</td>\n",
       "    </tr>\n",
       "    <tr>\n",
       "      <th>1</th>\n",
       "      <td>20.0</td>\n",
       "    </tr>\n",
       "    <tr>\n",
       "      <th>2</th>\n",
       "      <td>30.0</td>\n",
       "    </tr>\n",
       "    <tr>\n",
       "      <th>3</th>\n",
       "      <td>40.0</td>\n",
       "    </tr>\n",
       "    <tr>\n",
       "      <th>4</th>\n",
       "      <td>50.0</td>\n",
       "    </tr>\n",
       "  </tbody>\n",
       "</table>\n",
       "</div>"
      ],
      "text/plain": [
       "      0\n",
       "0  10.0\n",
       "1  20.0\n",
       "2  30.0\n",
       "3  40.0\n",
       "4  50.0"
      ]
     },
     "execution_count": 117,
     "metadata": {},
     "output_type": "execute_result"
    }
   ],
   "source": [
    "d1.fillna(d1.mean())"
   ]
  },
  {
   "cell_type": "markdown",
   "id": "d7f705cb",
   "metadata": {},
   "source": [
    "###  np.where"
   ]
  },
  {
   "cell_type": "code",
   "execution_count": 124,
   "id": "67b44ccf",
   "metadata": {},
   "outputs": [
    {
     "data": {
      "text/plain": [
       "array(500)"
      ]
     },
     "execution_count": 124,
     "metadata": {},
     "output_type": "execute_result"
    }
   ],
   "source": [
    "# np.where(<condition>, <True Output>, <False output> )\n",
    "\n",
    "np.where(100> 500, 100, 500)"
   ]
  },
  {
   "cell_type": "code",
   "execution_count": 130,
   "id": "0f7d8f7a",
   "metadata": {},
   "outputs": [],
   "source": [
    "a = 1100\n",
    "b = 2000\n",
    "c = 300"
   ]
  },
  {
   "cell_type": "code",
   "execution_count": 131,
   "id": "0473b5b7",
   "metadata": {},
   "outputs": [
    {
     "data": {
      "text/plain": [
       "array(2000)"
      ]
     },
     "execution_count": 131,
     "metadata": {},
     "output_type": "execute_result"
    }
   ],
   "source": [
    "np.where( a > b and a > c, a, np.where(b>c, b, c))"
   ]
  },
  {
   "cell_type": "code",
   "execution_count": null,
   "id": "2008beac",
   "metadata": {},
   "outputs": [],
   "source": []
  },
  {
   "cell_type": "code",
   "execution_count": null,
   "id": "67f840a9",
   "metadata": {},
   "outputs": [],
   "source": []
  },
  {
   "cell_type": "code",
   "execution_count": 132,
   "id": "4ef26577",
   "metadata": {},
   "outputs": [],
   "source": [
    "x = np.random.randint(10,30,(5))"
   ]
  },
  {
   "cell_type": "code",
   "execution_count": 133,
   "id": "fc899887",
   "metadata": {},
   "outputs": [],
   "source": [
    "y = np.random.randint(10,30,(5))"
   ]
  },
  {
   "cell_type": "code",
   "execution_count": 134,
   "id": "9854a947",
   "metadata": {},
   "outputs": [
    {
     "data": {
      "text/plain": [
       "array([27, 25, 18, 12, 25])"
      ]
     },
     "execution_count": 134,
     "metadata": {},
     "output_type": "execute_result"
    }
   ],
   "source": [
    "x"
   ]
  },
  {
   "cell_type": "code",
   "execution_count": 135,
   "id": "86239f80",
   "metadata": {},
   "outputs": [
    {
     "data": {
      "text/plain": [
       "array([11, 18, 10, 26, 24])"
      ]
     },
     "execution_count": 135,
     "metadata": {},
     "output_type": "execute_result"
    }
   ],
   "source": [
    "y"
   ]
  },
  {
   "cell_type": "code",
   "execution_count": 136,
   "id": "357a63ac",
   "metadata": {},
   "outputs": [
    {
     "data": {
      "text/plain": [
       "array([27, 25, 18, 26, 25])"
      ]
     },
     "execution_count": 136,
     "metadata": {},
     "output_type": "execute_result"
    }
   ],
   "source": [
    "np.where(x > y, x, y)"
   ]
  },
  {
   "cell_type": "code",
   "execution_count": null,
   "id": "7eac0f7b",
   "metadata": {},
   "outputs": [],
   "source": []
  }
 ],
 "metadata": {
  "kernelspec": {
   "display_name": "Python 3 (ipykernel)",
   "language": "python",
   "name": "python3"
  },
  "language_info": {
   "codemirror_mode": {
    "name": "ipython",
    "version": 3
   },
   "file_extension": ".py",
   "mimetype": "text/x-python",
   "name": "python",
   "nbconvert_exporter": "python",
   "pygments_lexer": "ipython3",
   "version": "3.9.13"
  }
 },
 "nbformat": 4,
 "nbformat_minor": 5
}
