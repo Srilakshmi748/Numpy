{
 "cells": [
  {
   "cell_type": "code",
   "execution_count": 1,
   "id": "e59ca17f",
   "metadata": {},
   "outputs": [],
   "source": [
    "import numpy as np"
   ]
  },
  {
   "cell_type": "markdown",
   "id": "5c3a9c00",
   "metadata": {},
   "source": [
    "### Creating Numpy Array using Random."
   ]
  },
  {
   "cell_type": "code",
   "execution_count": 3,
   "id": "cf6a4349",
   "metadata": {},
   "outputs": [],
   "source": [
    "rand_ary1 = np.random.rand(3,5)"
   ]
  },
  {
   "cell_type": "code",
   "execution_count": 4,
   "id": "1278421f",
   "metadata": {},
   "outputs": [
    {
     "data": {
      "text/plain": [
       "array([[0.90081181, 0.5639247 , 0.55875737, 0.67152972, 0.84607822],\n",
       "       [0.12543572, 0.86111451, 0.93531629, 0.62416556, 0.34086454],\n",
       "       [0.79378887, 0.27679692, 0.9617748 , 0.53480086, 0.49332985]])"
      ]
     },
     "execution_count": 4,
     "metadata": {},
     "output_type": "execute_result"
    }
   ],
   "source": [
    "rand_ary1"
   ]
  },
  {
   "cell_type": "code",
   "execution_count": 9,
   "id": "3047b4ed",
   "metadata": {},
   "outputs": [],
   "source": [
    "rand_ary3 = np.random.rand(2,4,5)"
   ]
  },
  {
   "cell_type": "code",
   "execution_count": 10,
   "id": "b2d3a33d",
   "metadata": {},
   "outputs": [
    {
     "data": {
      "text/plain": [
       "array([[[0.38525761, 0.35071849, 0.58988331, 0.16097518, 0.74124573],\n",
       "        [0.76460677, 0.84928926, 0.52192836, 0.96558862, 0.14148215],\n",
       "        [0.06594807, 0.92598169, 0.89225868, 0.97989593, 0.06260202],\n",
       "        [0.10071211, 0.25797397, 0.16326503, 0.16145806, 0.89272791]],\n",
       "\n",
       "       [[0.8953493 , 0.7999063 , 0.03870475, 0.86745512, 0.07659404],\n",
       "        [0.02788231, 0.55191752, 0.04743589, 0.77654562, 0.22592239],\n",
       "        [0.88101027, 0.34134314, 0.41876574, 0.78683567, 0.798217  ],\n",
       "        [0.56105497, 0.0383251 , 0.56564328, 0.78438073, 0.46690278]]])"
      ]
     },
     "execution_count": 10,
     "metadata": {},
     "output_type": "execute_result"
    }
   ],
   "source": [
    "rand_ary3"
   ]
  },
  {
   "cell_type": "markdown",
   "id": "e0941ea8",
   "metadata": {},
   "source": [
    "###  Random.Randn"
   ]
  },
  {
   "cell_type": "code",
   "execution_count": 11,
   "id": "eb8d0bbc",
   "metadata": {},
   "outputs": [],
   "source": [
    "randn_ary1 = np.random.randn(4,5)"
   ]
  },
  {
   "cell_type": "code",
   "execution_count": 12,
   "id": "673021c0",
   "metadata": {},
   "outputs": [
    {
     "data": {
      "text/plain": [
       "array([[-0.12959981,  0.78003289,  0.00522318, -1.16914479,  0.03162725],\n",
       "       [-0.99220103,  0.30048168,  2.26437334, -0.40737924, -0.1070578 ],\n",
       "       [-2.11265876, -1.7882754 ,  0.70729048, -0.20763619, -1.49396894],\n",
       "       [ 1.06658646, -0.4382533 , -0.13592841, -0.59436272,  0.91315899]])"
      ]
     },
     "execution_count": 12,
     "metadata": {},
     "output_type": "execute_result"
    }
   ],
   "source": [
    "randn_ary1"
   ]
  },
  {
   "cell_type": "code",
   "execution_count": 13,
   "id": "97f0e744",
   "metadata": {},
   "outputs": [],
   "source": [
    "randn_ary2 = np.random.randn(2,4,5)"
   ]
  },
  {
   "cell_type": "code",
   "execution_count": 14,
   "id": "26bee2b4",
   "metadata": {},
   "outputs": [
    {
     "data": {
      "text/plain": [
       "array([[[-0.72898536,  0.67818973, -1.18772645, -0.21246638,\n",
       "         -1.24673185],\n",
       "        [ 0.30830202, -0.53550911,  0.20394499,  0.21442291,\n",
       "         -1.7443416 ],\n",
       "        [ 0.88000196,  2.08637033, -0.25499683, -1.18908435,\n",
       "          1.44386535],\n",
       "        [ 1.59082108,  0.47993271,  0.11654107,  1.25838134,\n",
       "         -1.77348935]],\n",
       "\n",
       "       [[ 1.98085787,  1.470055  ,  0.77108438, -0.83450356,\n",
       "          1.24640762],\n",
       "        [-1.67735869,  1.18037127,  1.07325296,  0.95302051,\n",
       "         -0.08634007],\n",
       "        [ 0.56522019,  0.27928805, -1.45859132, -1.14857048,\n",
       "          0.7170283 ],\n",
       "        [ 0.34213893, -0.22384124,  1.9122933 ,  0.08292016,\n",
       "         -0.91408646]]])"
      ]
     },
     "execution_count": 14,
     "metadata": {},
     "output_type": "execute_result"
    }
   ],
   "source": [
    "randn_ary2"
   ]
  },
  {
   "cell_type": "markdown",
   "id": "d7f3dbfd",
   "metadata": {},
   "source": [
    "### Random.randint"
   ]
  },
  {
   "cell_type": "code",
   "execution_count": 16,
   "id": "70ddc204",
   "metadata": {},
   "outputs": [],
   "source": [
    "int_ary1 = np.random.randint(5, 15,(4,6))"
   ]
  },
  {
   "cell_type": "code",
   "execution_count": 17,
   "id": "7178c7e2",
   "metadata": {},
   "outputs": [
    {
     "data": {
      "text/plain": [
       "array([[ 5, 13, 13,  5,  5, 14],\n",
       "       [12, 13, 14, 12,  8, 13],\n",
       "       [ 6, 11, 13, 10, 10,  5],\n",
       "       [13, 13,  5,  9, 10, 13]])"
      ]
     },
     "execution_count": 17,
     "metadata": {},
     "output_type": "execute_result"
    }
   ],
   "source": [
    "int_ary1"
   ]
  },
  {
   "cell_type": "code",
   "execution_count": 18,
   "id": "450f830b",
   "metadata": {},
   "outputs": [
    {
     "data": {
      "text/plain": [
       "(4, 6)"
      ]
     },
     "execution_count": 18,
     "metadata": {},
     "output_type": "execute_result"
    }
   ],
   "source": [
    "int_ary1.shape"
   ]
  },
  {
   "cell_type": "code",
   "execution_count": 19,
   "id": "adfdfd41",
   "metadata": {},
   "outputs": [
    {
     "data": {
      "text/plain": [
       "2"
      ]
     },
     "execution_count": 19,
     "metadata": {},
     "output_type": "execute_result"
    }
   ],
   "source": [
    "int_ary1.ndim"
   ]
  },
  {
   "cell_type": "code",
   "execution_count": 20,
   "id": "7ed7e2ed",
   "metadata": {},
   "outputs": [
    {
     "data": {
      "text/plain": [
       "24"
      ]
     },
     "execution_count": 20,
     "metadata": {},
     "output_type": "execute_result"
    }
   ],
   "source": [
    "int_ary1.size"
   ]
  },
  {
   "cell_type": "code",
   "execution_count": 21,
   "id": "2e844fae",
   "metadata": {},
   "outputs": [
    {
     "data": {
      "text/plain": [
       "dtype('int32')"
      ]
     },
     "execution_count": 21,
     "metadata": {},
     "output_type": "execute_result"
    }
   ],
   "source": [
    "int_ary1.dtype"
   ]
  },
  {
   "cell_type": "code",
   "execution_count": 28,
   "id": "2577e743",
   "metadata": {},
   "outputs": [],
   "source": [
    "int_ary2 = np.random.randint(5,10,(3,5))"
   ]
  },
  {
   "cell_type": "code",
   "execution_count": 29,
   "id": "b3014767",
   "metadata": {},
   "outputs": [
    {
     "data": {
      "text/plain": [
       "array([[8, 8, 6, 5, 8],\n",
       "       [9, 5, 5, 5, 9],\n",
       "       [5, 7, 5, 8, 7]])"
      ]
     },
     "execution_count": 29,
     "metadata": {},
     "output_type": "execute_result"
    }
   ],
   "source": [
    "int_ary2"
   ]
  },
  {
   "cell_type": "code",
   "execution_count": 32,
   "id": "62d2b758",
   "metadata": {},
   "outputs": [],
   "source": [
    "nary1 = np.arange(5,9)"
   ]
  },
  {
   "cell_type": "code",
   "execution_count": 31,
   "id": "502a02f5",
   "metadata": {},
   "outputs": [
    {
     "data": {
      "text/plain": [
       "array([[8, 8, 7, 5, 8, 5],\n",
       "       [8, 7, 5, 8, 6, 8],\n",
       "       [7, 6, 8, 8, 7, 5],\n",
       "       [7, 5, 8, 6, 5, 8]])"
      ]
     },
     "execution_count": 31,
     "metadata": {},
     "output_type": "execute_result"
    }
   ],
   "source": [
    "np.random.randint(5,9,(4,6))"
   ]
  },
  {
   "cell_type": "code",
   "execution_count": 33,
   "id": "d3c4e35c",
   "metadata": {},
   "outputs": [
    {
     "data": {
      "text/plain": [
       "array([5, 6, 7, 8])"
      ]
     },
     "execution_count": 33,
     "metadata": {},
     "output_type": "execute_result"
    }
   ],
   "source": [
    "nary1"
   ]
  },
  {
   "cell_type": "code",
   "execution_count": 36,
   "id": "566f304d",
   "metadata": {},
   "outputs": [
    {
     "data": {
      "text/plain": [
       "array([[8, 8, 8, 6],\n",
       "       [8, 8, 8, 6],\n",
       "       [8, 8, 5, 8]])"
      ]
     },
     "execution_count": 36,
     "metadata": {},
     "output_type": "execute_result"
    }
   ],
   "source": [
    "np.random.choice(nary1,(3,4),p = [0.1, 0.2 , 0.0 ,0.7  ])"
   ]
  },
  {
   "cell_type": "markdown",
   "id": "7bedda57",
   "metadata": {},
   "source": [
    "###  Indexing & Slicing"
   ]
  },
  {
   "cell_type": "code",
   "execution_count": 37,
   "id": "70839779",
   "metadata": {},
   "outputs": [],
   "source": [
    "rary1 = np.random.randint(2,6,(5,))"
   ]
  },
  {
   "cell_type": "code",
   "execution_count": 38,
   "id": "89e9dbe4",
   "metadata": {},
   "outputs": [
    {
     "data": {
      "text/plain": [
       "array([2, 2, 3, 4, 5])"
      ]
     },
     "execution_count": 38,
     "metadata": {},
     "output_type": "execute_result"
    }
   ],
   "source": [
    "rary1"
   ]
  },
  {
   "cell_type": "code",
   "execution_count": 39,
   "id": "b03d280e",
   "metadata": {},
   "outputs": [
    {
     "data": {
      "text/plain": [
       "4"
      ]
     },
     "execution_count": 39,
     "metadata": {},
     "output_type": "execute_result"
    }
   ],
   "source": [
    "rary1[3]"
   ]
  },
  {
   "cell_type": "code",
   "execution_count": 40,
   "id": "aa3cb723",
   "metadata": {},
   "outputs": [
    {
     "data": {
      "text/plain": [
       "4"
      ]
     },
     "execution_count": 40,
     "metadata": {},
     "output_type": "execute_result"
    }
   ],
   "source": [
    "rary1[-2]"
   ]
  },
  {
   "cell_type": "code",
   "execution_count": 41,
   "id": "7f9639dd",
   "metadata": {},
   "outputs": [],
   "source": [
    "ary2 = np.random.randint(10,20,(3,5))"
   ]
  },
  {
   "cell_type": "code",
   "execution_count": 42,
   "id": "075e3ab0",
   "metadata": {},
   "outputs": [
    {
     "data": {
      "text/plain": [
       "array([[16, 15, 10, 16, 11],\n",
       "       [18, 13, 16, 11, 17],\n",
       "       [18, 15, 14, 13, 19]])"
      ]
     },
     "execution_count": 42,
     "metadata": {},
     "output_type": "execute_result"
    }
   ],
   "source": [
    "ary2"
   ]
  },
  {
   "cell_type": "code",
   "execution_count": 43,
   "id": "535b29cb",
   "metadata": {},
   "outputs": [
    {
     "data": {
      "text/plain": [
       "16"
      ]
     },
     "execution_count": 43,
     "metadata": {},
     "output_type": "execute_result"
    }
   ],
   "source": [
    "# row index = 1\n",
    "# col index = 2\n",
    "\n",
    "ary2[1][2]"
   ]
  },
  {
   "cell_type": "code",
   "execution_count": 44,
   "id": "49bff71c",
   "metadata": {},
   "outputs": [
    {
     "data": {
      "text/plain": [
       "2"
      ]
     },
     "execution_count": 44,
     "metadata": {},
     "output_type": "execute_result"
    }
   ],
   "source": [
    "ary2.ndim"
   ]
  },
  {
   "cell_type": "code",
   "execution_count": 45,
   "id": "119a0bad",
   "metadata": {},
   "outputs": [
    {
     "data": {
      "text/plain": [
       "16"
      ]
     },
     "execution_count": 45,
     "metadata": {},
     "output_type": "execute_result"
    }
   ],
   "source": [
    "# ary2[ <Rows>  , <Columns>  ]\n",
    "\n",
    "ary2[1, 2]"
   ]
  },
  {
   "cell_type": "code",
   "execution_count": 46,
   "id": "bb8c67e1",
   "metadata": {},
   "outputs": [],
   "source": [
    "rary2 = np.random.randint(100,200,(5,9))"
   ]
  },
  {
   "cell_type": "code",
   "execution_count": 47,
   "id": "a17af9a7",
   "metadata": {},
   "outputs": [
    {
     "data": {
      "text/plain": [
       "array([[189, 136, 158, 192, 127, 113, 154, 116, 194],\n",
       "       [185, 193, 130, 107, 108, 110, 136, 198, 164],\n",
       "       [181, 140, 137, 107, 125, 139, 107, 157, 109],\n",
       "       [193, 156, 196, 161, 178, 120, 106, 143, 164],\n",
       "       [131, 145, 171, 109, 146, 196, 111, 125, 113]])"
      ]
     },
     "execution_count": 47,
     "metadata": {},
     "output_type": "execute_result"
    }
   ],
   "source": [
    "rary2"
   ]
  },
  {
   "cell_type": "code",
   "execution_count": 48,
   "id": "c4dabef4",
   "metadata": {},
   "outputs": [
    {
     "data": {
      "text/plain": [
       "107"
      ]
     },
     "execution_count": 48,
     "metadata": {},
     "output_type": "execute_result"
    }
   ],
   "source": [
    "rary2[2,6]"
   ]
  },
  {
   "cell_type": "code",
   "execution_count": 49,
   "id": "da22be44",
   "metadata": {},
   "outputs": [
    {
     "data": {
      "text/plain": [
       "108"
      ]
     },
     "execution_count": 49,
     "metadata": {},
     "output_type": "execute_result"
    }
   ],
   "source": [
    "rary2[1, 4]"
   ]
  },
  {
   "cell_type": "markdown",
   "id": "807c7b44",
   "metadata": {},
   "source": [
    "###  Indexing with Multi Dimension Array"
   ]
  },
  {
   "cell_type": "code",
   "execution_count": 50,
   "id": "ba4fa5c3",
   "metadata": {},
   "outputs": [],
   "source": [
    "rary3 = np.random.randint(100,200,(2,4,6))"
   ]
  },
  {
   "cell_type": "code",
   "execution_count": 51,
   "id": "ada17074",
   "metadata": {},
   "outputs": [
    {
     "data": {
      "text/plain": [
       "array([[[181, 188, 110, 113, 197, 165],\n",
       "        [134, 121, 166, 183, 137, 105],\n",
       "        [140, 155, 114, 170, 174, 149],\n",
       "        [117, 175, 135, 183, 175, 157]],\n",
       "\n",
       "       [[156, 191, 109, 189, 175, 184],\n",
       "        [117, 134, 136, 160, 161, 152],\n",
       "        [171, 160, 137, 137, 112, 131],\n",
       "        [187, 121, 133, 165, 101, 134]]])"
      ]
     },
     "execution_count": 51,
     "metadata": {},
     "output_type": "execute_result"
    }
   ],
   "source": [
    "rary3"
   ]
  },
  {
   "cell_type": "code",
   "execution_count": 52,
   "id": "dbf0d8dc",
   "metadata": {},
   "outputs": [
    {
     "data": {
      "text/plain": [
       "3"
      ]
     },
     "execution_count": 52,
     "metadata": {},
     "output_type": "execute_result"
    }
   ],
   "source": [
    "rary3.ndim"
   ]
  },
  {
   "cell_type": "code",
   "execution_count": 53,
   "id": "d79c4900",
   "metadata": {},
   "outputs": [
    {
     "data": {
      "text/plain": [
       "(2, 4, 6)"
      ]
     },
     "execution_count": 53,
     "metadata": {},
     "output_type": "execute_result"
    }
   ],
   "source": [
    "rary3.shape"
   ]
  },
  {
   "cell_type": "code",
   "execution_count": 54,
   "id": "f3da8052",
   "metadata": {},
   "outputs": [],
   "source": [
    "rary4 = np.random.randint(100,200,(2,3,4,5))"
   ]
  },
  {
   "cell_type": "code",
   "execution_count": 55,
   "id": "71d5ebca",
   "metadata": {},
   "outputs": [
    {
     "data": {
      "text/plain": [
       "array([[[[185, 151, 163, 140, 140],\n",
       "         [132, 113, 169, 145, 144],\n",
       "         [100, 144, 194, 100, 133],\n",
       "         [122, 160, 100, 105, 165]],\n",
       "\n",
       "        [[116, 101, 172, 178, 173],\n",
       "         [163, 116, 177, 193, 118],\n",
       "         [150, 174, 115, 113, 166],\n",
       "         [189, 110, 195, 133, 105]],\n",
       "\n",
       "        [[130, 104, 146, 132, 175],\n",
       "         [102, 114, 133, 138, 123],\n",
       "         [154, 136, 199, 158, 129],\n",
       "         [104, 161, 130, 162, 115]]],\n",
       "\n",
       "\n",
       "       [[[127, 167, 183, 143, 170],\n",
       "         [157, 128, 108, 193, 194],\n",
       "         [182, 153, 110, 149, 197],\n",
       "         [189, 176, 144, 134, 178]],\n",
       "\n",
       "        [[161, 154, 140, 116, 165],\n",
       "         [104, 150, 137, 103, 161],\n",
       "         [159, 186, 132, 182, 120],\n",
       "         [111, 170, 189, 185, 172]],\n",
       "\n",
       "        [[118, 171, 123, 178, 172],\n",
       "         [150, 146, 138, 192, 173],\n",
       "         [162, 198, 173, 111, 187],\n",
       "         [129, 116, 142, 190, 149]]]])"
      ]
     },
     "execution_count": 55,
     "metadata": {},
     "output_type": "execute_result"
    }
   ],
   "source": [
    "rary4"
   ]
  },
  {
   "cell_type": "code",
   "execution_count": 57,
   "id": "a7c3335e",
   "metadata": {},
   "outputs": [
    {
     "data": {
      "text/plain": [
       "115"
      ]
     },
     "execution_count": 57,
     "metadata": {},
     "output_type": "execute_result"
    }
   ],
   "source": [
    "rary4[0,1,2,2]"
   ]
  },
  {
   "cell_type": "code",
   "execution_count": 59,
   "id": "ecbb8960",
   "metadata": {},
   "outputs": [],
   "source": [
    "import time"
   ]
  },
  {
   "cell_type": "code",
   "execution_count": 62,
   "id": "6ff75707",
   "metadata": {},
   "outputs": [
    {
     "name": "stdout",
     "output_type": "stream",
     "text": [
      "[[[185 151 163 140 140]\n",
      "  [132 113 169 145 144]\n",
      "  [100 144 194 100 133]\n",
      "  [122 160 100 105 165]]\n",
      "\n",
      " [[116 101 172 178 173]\n",
      "  [163 116 177 193 118]\n",
      "  [150 174 115 113 166]\n",
      "  [189 110 195 133 105]]\n",
      "\n",
      " [[130 104 146 132 175]\n",
      "  [102 114 133 138 123]\n",
      "  [154 136 199 158 129]\n",
      "  [104 161 130 162 115]]]\n",
      "[[185 151 163 140 140]\n",
      " [132 113 169 145 144]\n",
      " [100 144 194 100 133]\n",
      " [122 160 100 105 165]]\n",
      "[[116 101 172 178 173]\n",
      " [163 116 177 193 118]\n",
      " [150 174 115 113 166]\n",
      " [189 110 195 133 105]]\n",
      "[[130 104 146 132 175]\n",
      " [102 114 133 138 123]\n",
      " [154 136 199 158 129]\n",
      " [104 161 130 162 115]]\n",
      "[[[127 167 183 143 170]\n",
      "  [157 128 108 193 194]\n",
      "  [182 153 110 149 197]\n",
      "  [189 176 144 134 178]]\n",
      "\n",
      " [[161 154 140 116 165]\n",
      "  [104 150 137 103 161]\n",
      "  [159 186 132 182 120]\n",
      "  [111 170 189 185 172]]\n",
      "\n",
      " [[118 171 123 178 172]\n",
      "  [150 146 138 192 173]\n",
      "  [162 198 173 111 187]\n",
      "  [129 116 142 190 149]]]\n",
      "[[127 167 183 143 170]\n",
      " [157 128 108 193 194]\n",
      " [182 153 110 149 197]\n",
      " [189 176 144 134 178]]\n",
      "[[161 154 140 116 165]\n",
      " [104 150 137 103 161]\n",
      " [159 186 132 182 120]\n",
      " [111 170 189 185 172]]\n",
      "[[118 171 123 178 172]\n",
      " [150 146 138 192 173]\n",
      " [162 198 173 111 187]\n",
      " [129 116 142 190 149]]\n"
     ]
    }
   ],
   "source": [
    "for i in rary4:\n",
    "    time.sleep(2)\n",
    "    for j in i :\n",
    "        print(j)\n",
    "        time.sleep(2)"
   ]
  },
  {
   "cell_type": "markdown",
   "id": "78e8a3fa",
   "metadata": {},
   "source": [
    "###  Slicing"
   ]
  },
  {
   "cell_type": "code",
   "execution_count": 64,
   "id": "604f0605",
   "metadata": {},
   "outputs": [],
   "source": [
    "rary1 = np.random.randint(1,10,(8))"
   ]
  },
  {
   "cell_type": "code",
   "execution_count": 65,
   "id": "f3cf8906",
   "metadata": {},
   "outputs": [
    {
     "data": {
      "text/plain": [
       "array([5, 2, 3, 8, 1, 1, 5, 1])"
      ]
     },
     "execution_count": 65,
     "metadata": {},
     "output_type": "execute_result"
    }
   ],
   "source": [
    "rary1"
   ]
  },
  {
   "cell_type": "code",
   "execution_count": 66,
   "id": "9caad33d",
   "metadata": {},
   "outputs": [
    {
     "data": {
      "text/plain": [
       "array([3, 8, 1, 1])"
      ]
     },
     "execution_count": 66,
     "metadata": {},
     "output_type": "execute_result"
    }
   ],
   "source": [
    "rary1[2 : 6 : 1]"
   ]
  },
  {
   "cell_type": "code",
   "execution_count": 67,
   "id": "c03f0dec",
   "metadata": {},
   "outputs": [
    {
     "data": {
      "text/plain": [
       "array([2, 3, 8, 1, 1, 5])"
      ]
     },
     "execution_count": 67,
     "metadata": {},
     "output_type": "execute_result"
    }
   ],
   "source": [
    "rary1[1 : 7 : 1]"
   ]
  },
  {
   "cell_type": "markdown",
   "id": "dca71981",
   "metadata": {},
   "source": [
    "###  Two DImension Array Slicing"
   ]
  },
  {
   "cell_type": "code",
   "execution_count": 68,
   "id": "5b71e335",
   "metadata": {},
   "outputs": [
    {
     "data": {
      "text/plain": [
       "array([[189, 136, 158, 192, 127, 113, 154, 116, 194],\n",
       "       [185, 193, 130, 107, 108, 110, 136, 198, 164],\n",
       "       [181, 140, 137, 107, 125, 139, 107, 157, 109],\n",
       "       [193, 156, 196, 161, 178, 120, 106, 143, 164],\n",
       "       [131, 145, 171, 109, 146, 196, 111, 125, 113]])"
      ]
     },
     "execution_count": 68,
     "metadata": {},
     "output_type": "execute_result"
    }
   ],
   "source": [
    "rary2"
   ]
  },
  {
   "cell_type": "code",
   "execution_count": 69,
   "id": "e7b9b7ac",
   "metadata": {},
   "outputs": [
    {
     "data": {
      "text/plain": [
       "2"
      ]
     },
     "execution_count": 69,
     "metadata": {},
     "output_type": "execute_result"
    }
   ],
   "source": [
    "rary2.ndim"
   ]
  },
  {
   "cell_type": "code",
   "execution_count": 70,
   "id": "96b84e40",
   "metadata": {},
   "outputs": [
    {
     "data": {
      "text/plain": [
       "array([[130, 107, 108, 110, 136],\n",
       "       [137, 107, 125, 139, 107],\n",
       "       [196, 161, 178, 120, 106]])"
      ]
     },
     "execution_count": 70,
     "metadata": {},
     "output_type": "execute_result"
    }
   ],
   "source": [
    " rary2 [    1: 4 : 1    ,     2: 7: 1   ]\n"
   ]
  },
  {
   "cell_type": "code",
   "execution_count": 71,
   "id": "676a9ab2",
   "metadata": {},
   "outputs": [
    {
     "data": {
      "text/plain": [
       "array([[136, 158, 192, 127, 113, 154],\n",
       "       [193, 130, 107, 108, 110, 136],\n",
       "       [140, 137, 107, 125, 139, 107],\n",
       "       [156, 196, 161, 178, 120, 106],\n",
       "       [145, 171, 109, 146, 196, 111]])"
      ]
     },
     "execution_count": 71,
     "metadata": {},
     "output_type": "execute_result"
    }
   ],
   "source": [
    " rary2[  0 : 5 : 1        ,  1 : 7 : 1       ]"
   ]
  },
  {
   "cell_type": "code",
   "execution_count": 72,
   "id": "c402f540",
   "metadata": {},
   "outputs": [
    {
     "data": {
      "text/plain": [
       "array([[136, 158, 192, 127, 113, 154],\n",
       "       [193, 130, 107, 108, 110, 136],\n",
       "       [140, 137, 107, 125, 139, 107],\n",
       "       [156, 196, 161, 178, 120, 106],\n",
       "       [145, 171, 109, 146, 196, 111]])"
      ]
     },
     "execution_count": 72,
     "metadata": {},
     "output_type": "execute_result"
    }
   ],
   "source": [
    "rary2[  :  :     ,  1 : 7 : 1       ]"
   ]
  },
  {
   "cell_type": "code",
   "execution_count": 73,
   "id": "d5d54301",
   "metadata": {},
   "outputs": [
    {
     "data": {
      "text/plain": [
       "array([[193, 107, 110, 198],\n",
       "       [140, 107, 139, 157],\n",
       "       [156, 161, 120, 143]])"
      ]
     },
     "execution_count": 73,
     "metadata": {},
     "output_type": "execute_result"
    }
   ],
   "source": [
    " rary2[  1 : 4 : 1, 1 : 8: 2 ]\n"
   ]
  },
  {
   "cell_type": "code",
   "execution_count": 74,
   "id": "ec392014",
   "metadata": {},
   "outputs": [
    {
     "data": {
      "text/plain": [
       "array([[[181, 188, 110, 113, 197, 165],\n",
       "        [134, 121, 166, 183, 137, 105],\n",
       "        [140, 155, 114, 170, 174, 149],\n",
       "        [117, 175, 135, 183, 175, 157]],\n",
       "\n",
       "       [[156, 191, 109, 189, 175, 184],\n",
       "        [117, 134, 136, 160, 161, 152],\n",
       "        [171, 160, 137, 137, 112, 131],\n",
       "        [187, 121, 133, 165, 101, 134]]])"
      ]
     },
     "execution_count": 74,
     "metadata": {},
     "output_type": "execute_result"
    }
   ],
   "source": [
    "rary3"
   ]
  },
  {
   "cell_type": "code",
   "execution_count": 75,
   "id": "b9f2c1ab",
   "metadata": {},
   "outputs": [
    {
     "data": {
      "text/plain": [
       "array([[[121, 166, 183, 137],\n",
       "        [175, 135, 183, 175]],\n",
       "\n",
       "       [[134, 136, 160, 161],\n",
       "        [121, 133, 165, 101]]])"
      ]
     },
     "execution_count": 75,
     "metadata": {},
     "output_type": "execute_result"
    }
   ],
   "source": [
    " rary3[   0 : 2 : 1  ,  1 : 4 : 2   ,   1 : 5 : 1 ]\n"
   ]
  },
  {
   "cell_type": "code",
   "execution_count": 78,
   "id": "d997f469",
   "metadata": {},
   "outputs": [],
   "source": [
    "ary3 = np.random.randint(100,300,(3,5,8))"
   ]
  },
  {
   "cell_type": "code",
   "execution_count": 79,
   "id": "599c050b",
   "metadata": {},
   "outputs": [
    {
     "data": {
      "text/plain": [
       "array([[[220, 270, 255, 166, 234, 156, 143, 252],\n",
       "        [162, 187, 166, 193, 247, 230, 181, 135],\n",
       "        [113, 200, 222, 167, 168, 171, 279, 131],\n",
       "        [227, 243, 154, 172, 201, 259, 139, 247],\n",
       "        [171, 135, 299, 139, 295, 107, 251, 194]],\n",
       "\n",
       "       [[201, 185, 131, 112, 222, 267, 227, 254],\n",
       "        [145, 109, 241, 282, 168, 115, 167, 126],\n",
       "        [164, 246, 243, 222, 174, 283, 187, 112],\n",
       "        [166, 212, 194, 220, 130, 136, 111, 185],\n",
       "        [209, 221, 121, 283, 268, 255, 206, 290]],\n",
       "\n",
       "       [[121, 280, 148, 264, 164, 255, 278, 154],\n",
       "        [168, 108, 272, 145, 251, 252, 204, 106],\n",
       "        [288, 177, 158, 136, 172, 255, 171, 147],\n",
       "        [233, 280, 162, 170, 113, 151, 108, 260],\n",
       "        [281, 114, 199, 152, 275, 117, 246, 277]]])"
      ]
     },
     "execution_count": 79,
     "metadata": {},
     "output_type": "execute_result"
    }
   ],
   "source": [
    "ary3"
   ]
  },
  {
   "cell_type": "markdown",
   "id": "4539bb52",
   "metadata": {},
   "source": [
    "### Advance Indexing"
   ]
  },
  {
   "cell_type": "code",
   "execution_count": 81,
   "id": "524f0b41",
   "metadata": {},
   "outputs": [
    {
     "data": {
      "text/plain": [
       "array([5, 2, 3, 8, 1, 1, 5, 1])"
      ]
     },
     "execution_count": 81,
     "metadata": {},
     "output_type": "execute_result"
    }
   ],
   "source": [
    "rary1"
   ]
  },
  {
   "cell_type": "code",
   "execution_count": 82,
   "id": "6924dfbe",
   "metadata": {},
   "outputs": [
    {
     "data": {
      "text/plain": [
       "array([2, 8, 5, 1])"
      ]
     },
     "execution_count": 82,
     "metadata": {},
     "output_type": "execute_result"
    }
   ],
   "source": [
    "# 2, 8, 5,1\n",
    "\n",
    "rary1[ [1,3,6,7] ]"
   ]
  },
  {
   "cell_type": "code",
   "execution_count": 83,
   "id": "6e89e3fc",
   "metadata": {},
   "outputs": [
    {
     "data": {
      "text/plain": [
       "array([[189, 136, 158, 192, 127, 113, 154, 116, 194],\n",
       "       [185, 193, 130, 107, 108, 110, 136, 198, 164],\n",
       "       [181, 140, 137, 107, 125, 139, 107, 157, 109],\n",
       "       [193, 156, 196, 161, 178, 120, 106, 143, 164],\n",
       "       [131, 145, 171, 109, 146, 196, 111, 125, 113]])"
      ]
     },
     "execution_count": 83,
     "metadata": {},
     "output_type": "execute_result"
    }
   ],
   "source": [
    "rary2"
   ]
  },
  {
   "cell_type": "code",
   "execution_count": 84,
   "id": "0ed7023e",
   "metadata": {},
   "outputs": [
    {
     "data": {
      "text/plain": [
       "array([140, 107, 146, 154, 143, 113, 185])"
      ]
     },
     "execution_count": 84,
     "metadata": {},
     "output_type": "execute_result"
    }
   ],
   "source": [
    " rary2 [   [2, 1, 4, 0, 3, 4, 1 ]   ,    [1,  3, 4 , 6, 7, 8, 0]  ]"
   ]
  },
  {
   "cell_type": "code",
   "execution_count": 86,
   "id": "aa4ccf92",
   "metadata": {},
   "outputs": [
    {
     "data": {
      "text/plain": [
       "array([[[220, 270, 255, 166, 234, 156, 143, 252],\n",
       "        [162, 187, 166, 193, 247, 230, 181, 135],\n",
       "        [113, 200, 222, 167, 168, 171, 279, 131],\n",
       "        [227, 243, 154, 172, 201, 259, 139, 247],\n",
       "        [171, 135, 299, 139, 295, 107, 251, 194]],\n",
       "\n",
       "       [[201, 185, 131, 112, 222, 267, 227, 254],\n",
       "        [145, 109, 241, 282, 168, 115, 167, 126],\n",
       "        [164, 246, 243, 222, 174, 283, 187, 112],\n",
       "        [166, 212, 194, 220, 130, 136, 111, 185],\n",
       "        [209, 221, 121, 283, 268, 255, 206, 290]],\n",
       "\n",
       "       [[121, 280, 148, 264, 164, 255, 278, 154],\n",
       "        [168, 108, 272, 145, 251, 252, 204, 106],\n",
       "        [288, 177, 158, 136, 172, 255, 171, 147],\n",
       "        [233, 280, 162, 170, 113, 151, 108, 260],\n",
       "        [281, 114, 199, 152, 275, 117, 246, 277]]])"
      ]
     },
     "execution_count": 86,
     "metadata": {},
     "output_type": "execute_result"
    }
   ],
   "source": [
    "ary3"
   ]
  },
  {
   "cell_type": "code",
   "execution_count": 87,
   "id": "d305d1a6",
   "metadata": {},
   "outputs": [
    {
     "data": {
      "text/plain": [
       "array([222, 168, 227, 209])"
      ]
     },
     "execution_count": 87,
     "metadata": {},
     "output_type": "execute_result"
    }
   ],
   "source": [
    " ary3[  [0, 2, 1, 1] ,  [2, 1, 0,4]  ,  [2, 0,6, 0] ]"
   ]
  },
  {
   "cell_type": "code",
   "execution_count": 88,
   "id": "d4be88b7",
   "metadata": {},
   "outputs": [],
   "source": [
    "bary2 = np.random.randint(50, 350,(5,10))"
   ]
  },
  {
   "cell_type": "code",
   "execution_count": 89,
   "id": "68ae7a23",
   "metadata": {},
   "outputs": [
    {
     "data": {
      "text/plain": [
       "array([[ 82, 287, 331, 202, 296, 228,  78, 167, 343, 115],\n",
       "       [ 68, 218, 179, 331, 135, 320, 304, 283, 231, 250],\n",
       "       [133, 224, 189, 125, 204, 338, 276, 113, 169,  83],\n",
       "       [274,  62, 100,  62,  88, 269, 303,  81, 209, 208],\n",
       "       [239, 337,  94, 160, 176, 147, 191, 236,  54,  55]])"
      ]
     },
     "execution_count": 89,
     "metadata": {},
     "output_type": "execute_result"
    }
   ],
   "source": [
    "bary2"
   ]
  },
  {
   "cell_type": "code",
   "execution_count": 90,
   "id": "b734a802",
   "metadata": {},
   "outputs": [
    {
     "data": {
      "text/plain": [
       "array([[ True, False, False, False, False, False,  True, False, False,\n",
       "        False],\n",
       "       [ True, False, False, False, False, False, False, False, False,\n",
       "        False],\n",
       "       [False, False, False, False, False, False, False, False, False,\n",
       "         True],\n",
       "       [False,  True, False,  True,  True, False, False,  True, False,\n",
       "        False],\n",
       "       [False, False,  True, False, False, False, False, False,  True,\n",
       "         True]])"
      ]
     },
     "execution_count": 90,
     "metadata": {},
     "output_type": "execute_result"
    }
   ],
   "source": [
    "bary2 < 100"
   ]
  },
  {
   "cell_type": "code",
   "execution_count": 92,
   "id": "508cf4b9",
   "metadata": {},
   "outputs": [
    {
     "data": {
      "text/plain": [
       "array([82, 78, 68, 83, 62, 62, 88, 81, 94, 54, 55])"
      ]
     },
     "execution_count": 92,
     "metadata": {},
     "output_type": "execute_result"
    }
   ],
   "source": [
    "bary2[  bary2 < 100 ]"
   ]
  },
  {
   "cell_type": "code",
   "execution_count": 94,
   "id": "c3c79fb5",
   "metadata": {},
   "outputs": [],
   "source": [
    "filt = bary2 > 200"
   ]
  },
  {
   "cell_type": "code",
   "execution_count": 95,
   "id": "a3898a97",
   "metadata": {},
   "outputs": [
    {
     "data": {
      "text/plain": [
       "array([[False,  True,  True,  True,  True,  True, False, False,  True,\n",
       "        False],\n",
       "       [False,  True, False,  True, False,  True,  True,  True,  True,\n",
       "         True],\n",
       "       [False,  True, False, False,  True,  True,  True, False, False,\n",
       "        False],\n",
       "       [ True, False, False, False, False,  True,  True, False,  True,\n",
       "         True],\n",
       "       [ True,  True, False, False, False, False, False,  True, False,\n",
       "        False]])"
      ]
     },
     "execution_count": 95,
     "metadata": {},
     "output_type": "execute_result"
    }
   ],
   "source": [
    "filt"
   ]
  },
  {
   "cell_type": "code",
   "execution_count": 96,
   "id": "ae54a73d",
   "metadata": {},
   "outputs": [
    {
     "data": {
      "text/plain": [
       "array([287, 331, 202, 296, 228, 343, 218, 331, 320, 304, 283, 231, 250,\n",
       "       224, 204, 338, 276, 274, 269, 303, 209, 208, 239, 337, 236])"
      ]
     },
     "execution_count": 96,
     "metadata": {},
     "output_type": "execute_result"
    }
   ],
   "source": [
    "bary2[  filt ]"
   ]
  },
  {
   "cell_type": "code",
   "execution_count": 97,
   "id": "fb63a7c3",
   "metadata": {},
   "outputs": [
    {
     "data": {
      "text/plain": [
       "array([[ 82, 287, 331, 202, 296, 228,  78, 167, 343, 115],\n",
       "       [ 68, 218, 179, 331, 135, 320, 304, 283, 231, 250],\n",
       "       [133, 224, 189, 125, 204, 338, 276, 113, 169,  83],\n",
       "       [274,  62, 100,  62,  88, 269, 303,  81, 209, 208],\n",
       "       [239, 337,  94, 160, 176, 147, 191, 236,  54,  55]])"
      ]
     },
     "execution_count": 97,
     "metadata": {},
     "output_type": "execute_result"
    }
   ],
   "source": [
    "bary2"
   ]
  },
  {
   "cell_type": "code",
   "execution_count": 100,
   "id": "93bfac04",
   "metadata": {},
   "outputs": [],
   "source": [
    "filt1 = (bary2 > 100)   &   (bary2 < 200)"
   ]
  },
  {
   "cell_type": "code",
   "execution_count": 101,
   "id": "7ca5204b",
   "metadata": {},
   "outputs": [
    {
     "data": {
      "text/plain": [
       "array([[False, False, False, False, False, False, False,  True, False,\n",
       "         True],\n",
       "       [False, False,  True, False,  True, False, False, False, False,\n",
       "        False],\n",
       "       [ True, False,  True,  True, False, False, False,  True,  True,\n",
       "        False],\n",
       "       [False, False, False, False, False, False, False, False, False,\n",
       "        False],\n",
       "       [False, False, False,  True,  True,  True,  True, False, False,\n",
       "        False]])"
      ]
     },
     "execution_count": 101,
     "metadata": {},
     "output_type": "execute_result"
    }
   ],
   "source": [
    "filt1"
   ]
  },
  {
   "cell_type": "code",
   "execution_count": 102,
   "id": "6b0b66a9",
   "metadata": {},
   "outputs": [
    {
     "data": {
      "text/plain": [
       "array([167, 115, 179, 135, 133, 189, 125, 113, 169, 160, 176, 147, 191])"
      ]
     },
     "execution_count": 102,
     "metadata": {},
     "output_type": "execute_result"
    }
   ],
   "source": [
    "bary2[ filt1  ]"
   ]
  },
  {
   "cell_type": "code",
   "execution_count": 103,
   "id": "f776e517",
   "metadata": {},
   "outputs": [
    {
     "data": {
      "text/plain": [
       "array([[ 82, 287, 331, 202, 296, 228,  78, 167, 343, 115],\n",
       "       [ 68, 218, 179, 331, 135, 320, 304, 283, 231, 250],\n",
       "       [133, 224, 189, 125, 204, 338, 276, 113, 169,  83],\n",
       "       [274,  62, 100,  62,  88, 269, 303,  81, 209, 208],\n",
       "       [239, 337,  94, 160, 176, 147, 191, 236,  54,  55]])"
      ]
     },
     "execution_count": 103,
     "metadata": {},
     "output_type": "execute_result"
    }
   ],
   "source": [
    "bary2"
   ]
  },
  {
   "cell_type": "code",
   "execution_count": 105,
   "id": "98c12bf4",
   "metadata": {},
   "outputs": [
    {
     "data": {
      "text/plain": [
       "array([[ True,  True,  True,  True,  True,  True,  True, False,  True,\n",
       "        False],\n",
       "       [ True,  True, False,  True, False,  True,  True,  True,  True,\n",
       "         True],\n",
       "       [False,  True, False, False,  True,  True,  True, False, False,\n",
       "         True],\n",
       "       [ True,  True, False,  True,  True,  True,  True,  True,  True,\n",
       "         True],\n",
       "       [ True,  True,  True, False, False, False, False,  True,  True,\n",
       "         True]])"
      ]
     },
     "execution_count": 105,
     "metadata": {},
     "output_type": "execute_result"
    }
   ],
   "source": [
    "(bary2 < 100) |  (bary2 > 200)"
   ]
  },
  {
   "cell_type": "code",
   "execution_count": 106,
   "id": "e7045d89",
   "metadata": {},
   "outputs": [
    {
     "data": {
      "text/plain": [
       "array([ 82, 287, 331, 202, 296, 228,  78, 343,  68, 218, 331, 320, 304,\n",
       "       283, 231, 250, 224, 204, 338, 276,  83, 274,  62,  62,  88, 269,\n",
       "       303,  81, 209, 208, 239, 337,  94, 236,  54,  55])"
      ]
     },
     "execution_count": 106,
     "metadata": {},
     "output_type": "execute_result"
    }
   ],
   "source": [
    "bary2[      (bary2 < 100) |  (bary2 > 200)           ]"
   ]
  },
  {
   "cell_type": "markdown",
   "id": "77080cdb",
   "metadata": {},
   "source": [
    "###  Numpy array occupies less memory"
   ]
  },
  {
   "cell_type": "code",
   "execution_count": 108,
   "id": "d07bb489",
   "metadata": {},
   "outputs": [
    {
     "data": {
      "text/plain": [
       "array([5, 2, 3, 8, 1, 1, 5, 1])"
      ]
     },
     "execution_count": 108,
     "metadata": {},
     "output_type": "execute_result"
    }
   ],
   "source": [
    "rary1"
   ]
  },
  {
   "cell_type": "code",
   "execution_count": 110,
   "id": "9f8773c9",
   "metadata": {},
   "outputs": [
    {
     "data": {
      "text/plain": [
       "8"
      ]
     },
     "execution_count": 110,
     "metadata": {},
     "output_type": "execute_result"
    }
   ],
   "source": [
    "len(rary1)"
   ]
  },
  {
   "cell_type": "code",
   "execution_count": 111,
   "id": "e5aa1cbd",
   "metadata": {},
   "outputs": [
    {
     "data": {
      "text/plain": [
       "8"
      ]
     },
     "execution_count": 111,
     "metadata": {},
     "output_type": "execute_result"
    }
   ],
   "source": [
    "rary1.size"
   ]
  },
  {
   "cell_type": "code",
   "execution_count": 112,
   "id": "128bfa1d",
   "metadata": {},
   "outputs": [
    {
     "data": {
      "text/plain": [
       "4"
      ]
     },
     "execution_count": 112,
     "metadata": {},
     "output_type": "execute_result"
    }
   ],
   "source": [
    "rary1.itemsize"
   ]
  },
  {
   "cell_type": "code",
   "execution_count": 113,
   "id": "2805d9d7",
   "metadata": {},
   "outputs": [
    {
     "data": {
      "text/plain": [
       "dtype('int32')"
      ]
     },
     "execution_count": 113,
     "metadata": {},
     "output_type": "execute_result"
    }
   ],
   "source": [
    "rary1.dtype"
   ]
  },
  {
   "cell_type": "code",
   "execution_count": 114,
   "id": "4673f9b5",
   "metadata": {},
   "outputs": [
    {
     "data": {
      "text/plain": [
       "32"
      ]
     },
     "execution_count": 114,
     "metadata": {},
     "output_type": "execute_result"
    }
   ],
   "source": [
    "rary1.itemsize * rary1.size"
   ]
  },
  {
   "cell_type": "code",
   "execution_count": 115,
   "id": "7b47d35c",
   "metadata": {},
   "outputs": [],
   "source": [
    "nlist = [5, 2, 3, 8, 1, 1, 5, 1]"
   ]
  },
  {
   "cell_type": "code",
   "execution_count": 116,
   "id": "a973c649",
   "metadata": {},
   "outputs": [
    {
     "data": {
      "text/plain": [
       "[5, 2, 3, 8, 1, 1, 5, 1]"
      ]
     },
     "execution_count": 116,
     "metadata": {},
     "output_type": "execute_result"
    }
   ],
   "source": [
    "nlist"
   ]
  },
  {
   "cell_type": "code",
   "execution_count": 117,
   "id": "068409a8",
   "metadata": {},
   "outputs": [
    {
     "data": {
      "text/plain": [
       "list"
      ]
     },
     "execution_count": 117,
     "metadata": {},
     "output_type": "execute_result"
    }
   ],
   "source": [
    "type(nlist)"
   ]
  },
  {
   "cell_type": "code",
   "execution_count": 118,
   "id": "706ca9a4",
   "metadata": {},
   "outputs": [],
   "source": [
    "import sys"
   ]
  },
  {
   "cell_type": "code",
   "execution_count": 119,
   "id": "3642a8b2",
   "metadata": {},
   "outputs": [
    {
     "data": {
      "text/plain": [
       "28"
      ]
     },
     "execution_count": 119,
     "metadata": {},
     "output_type": "execute_result"
    }
   ],
   "source": [
    "sys.getsizeof(8)"
   ]
  },
  {
   "cell_type": "code",
   "execution_count": 120,
   "id": "2e888535",
   "metadata": {},
   "outputs": [
    {
     "data": {
      "text/plain": [
       "28"
      ]
     },
     "execution_count": 120,
     "metadata": {},
     "output_type": "execute_result"
    }
   ],
   "source": [
    "sys.getsizeof(nlist[3])"
   ]
  },
  {
   "cell_type": "code",
   "execution_count": 122,
   "id": "22baffda",
   "metadata": {},
   "outputs": [
    {
     "data": {
      "text/plain": [
       "224"
      ]
     },
     "execution_count": 122,
     "metadata": {},
     "output_type": "execute_result"
    }
   ],
   "source": [
    "len(nlist) * sys.getsizeof(nlist[3])"
   ]
  },
  {
   "cell_type": "markdown",
   "id": "7b8c1b14",
   "metadata": {},
   "source": [
    "### Speed check of Numpy over List"
   ]
  },
  {
   "cell_type": "code",
   "execution_count": 123,
   "id": "9773c9d1",
   "metadata": {},
   "outputs": [],
   "source": [
    "nmax = 100000"
   ]
  },
  {
   "cell_type": "code",
   "execution_count": 125,
   "id": "ebfcdbb6",
   "metadata": {},
   "outputs": [
    {
     "data": {
      "text/plain": [
       "[0, 1, 2, 3, 4, 5, 6, 7, 8, 9]"
      ]
     },
     "execution_count": 125,
     "metadata": {},
     "output_type": "execute_result"
    }
   ],
   "source": [
    "list( range(10) )"
   ]
  },
  {
   "cell_type": "code",
   "execution_count": 127,
   "id": "670ba3e0",
   "metadata": {},
   "outputs": [],
   "source": [
    "num1 = list(range(nmax))"
   ]
  },
  {
   "cell_type": "code",
   "execution_count": 128,
   "id": "73e0f927",
   "metadata": {},
   "outputs": [],
   "source": [
    "num2 = list(range(nmax))"
   ]
  },
  {
   "cell_type": "code",
   "execution_count": 129,
   "id": "873407e8",
   "metadata": {},
   "outputs": [
    {
     "data": {
      "text/plain": [
       "100000"
      ]
     },
     "execution_count": 129,
     "metadata": {},
     "output_type": "execute_result"
    }
   ],
   "source": [
    "len(num1)"
   ]
  },
  {
   "cell_type": "code",
   "execution_count": 130,
   "id": "c0f335b5",
   "metadata": {},
   "outputs": [
    {
     "data": {
      "text/plain": [
       "100000"
      ]
     },
     "execution_count": 130,
     "metadata": {},
     "output_type": "execute_result"
    }
   ],
   "source": [
    "len(num2)"
   ]
  },
  {
   "cell_type": "code",
   "execution_count": 131,
   "id": "2ea29dd5",
   "metadata": {},
   "outputs": [
    {
     "data": {
      "text/plain": [
       "list"
      ]
     },
     "execution_count": 131,
     "metadata": {},
     "output_type": "execute_result"
    }
   ],
   "source": [
    "type(num1)"
   ]
  },
  {
   "cell_type": "code",
   "execution_count": 132,
   "id": "7dfbf9e0",
   "metadata": {},
   "outputs": [
    {
     "data": {
      "text/plain": [
       "list"
      ]
     },
     "execution_count": 132,
     "metadata": {},
     "output_type": "execute_result"
    }
   ],
   "source": [
    "type(num2)"
   ]
  },
  {
   "cell_type": "code",
   "execution_count": 133,
   "id": "5778af3c",
   "metadata": {},
   "outputs": [],
   "source": [
    "n1 = [10,20,30,40,50]\n",
    "n2 = [1,2,3,4,5]"
   ]
  },
  {
   "cell_type": "code",
   "execution_count": 134,
   "id": "d659fb68",
   "metadata": {},
   "outputs": [
    {
     "data": {
      "text/plain": [
       "[10, 20, 30, 40, 50, 1, 2, 3, 4, 5]"
      ]
     },
     "execution_count": 134,
     "metadata": {},
     "output_type": "execute_result"
    }
   ],
   "source": [
    "n1 + n2"
   ]
  },
  {
   "cell_type": "code",
   "execution_count": 136,
   "id": "710139eb",
   "metadata": {},
   "outputs": [
    {
     "name": "stdout",
     "output_type": "stream",
     "text": [
      "10\n",
      "1\n",
      "\n",
      "20\n",
      "2\n",
      "\n",
      "30\n",
      "3\n",
      "\n",
      "40\n",
      "4\n",
      "\n",
      "50\n",
      "5\n",
      "\n"
     ]
    }
   ],
   "source": [
    "n3 = []\n",
    "for i, j in zip(n1, n2):\n",
    "    print(i)\n",
    "    print(j)\n",
    "    n3.append(i+j)\n",
    "    print()"
   ]
  },
  {
   "cell_type": "code",
   "execution_count": 137,
   "id": "1325ceb8",
   "metadata": {},
   "outputs": [
    {
     "data": {
      "text/plain": [
       "[11, 22, 33, 44, 55]"
      ]
     },
     "execution_count": 137,
     "metadata": {},
     "output_type": "execute_result"
    }
   ],
   "source": [
    "n3"
   ]
  },
  {
   "cell_type": "code",
   "execution_count": 138,
   "id": "c1163de4",
   "metadata": {},
   "outputs": [
    {
     "name": "stdout",
     "output_type": "stream",
     "text": [
      "18.022775650024414\n"
     ]
    }
   ],
   "source": [
    "st = time.time()\n",
    "num3 = []\n",
    "for x, y in zip(num1, num2) : \n",
    "    num3.append(x+y)\n",
    "    \n",
    "et = time.time()\n",
    "\n",
    "print((et - st) * 1000)"
   ]
  },
  {
   "cell_type": "code",
   "execution_count": 139,
   "id": "90f4a406",
   "metadata": {},
   "outputs": [],
   "source": [
    "nary1 = np.arange(nmax)\n",
    "nary2 = np.arange(nmax)"
   ]
  },
  {
   "cell_type": "code",
   "execution_count": 140,
   "id": "213f5e70",
   "metadata": {},
   "outputs": [
    {
     "data": {
      "text/plain": [
       "array([    0,     1,     2, ..., 99997, 99998, 99999])"
      ]
     },
     "execution_count": 140,
     "metadata": {},
     "output_type": "execute_result"
    }
   ],
   "source": [
    "nary1"
   ]
  },
  {
   "cell_type": "code",
   "execution_count": 141,
   "id": "930dfd1c",
   "metadata": {},
   "outputs": [
    {
     "data": {
      "text/plain": [
       "array([    0,     1,     2, ..., 99997, 99998, 99999])"
      ]
     },
     "execution_count": 141,
     "metadata": {},
     "output_type": "execute_result"
    }
   ],
   "source": [
    "nary2"
   ]
  },
  {
   "cell_type": "code",
   "execution_count": 142,
   "id": "b5aed9cf",
   "metadata": {},
   "outputs": [],
   "source": [
    "nary3 = nary1 + nary2"
   ]
  },
  {
   "cell_type": "code",
   "execution_count": 143,
   "id": "8cdb4722",
   "metadata": {},
   "outputs": [
    {
     "data": {
      "text/plain": [
       "array([     0,      2,      4, ..., 199994, 199996, 199998])"
      ]
     },
     "execution_count": 143,
     "metadata": {},
     "output_type": "execute_result"
    }
   ],
   "source": [
    "nary3"
   ]
  },
  {
   "cell_type": "code",
   "execution_count": 144,
   "id": "b13163dc",
   "metadata": {},
   "outputs": [
    {
     "name": "stdout",
     "output_type": "stream",
     "text": [
      "1.0004043579101562\n"
     ]
    }
   ],
   "source": [
    "nst = time.time()\n",
    "\n",
    "nary4 = nary1 + nary2\n",
    "\n",
    "net = time.time()  \n",
    "\n",
    "print(( net - nst) * 1000 ) "
   ]
  },
  {
   "cell_type": "code",
   "execution_count": null,
   "id": "c2e51963",
   "metadata": {},
   "outputs": [],
   "source": []
  }
 ],
 "metadata": {
  "kernelspec": {
   "display_name": "Python 3 (ipykernel)",
   "language": "python",
   "name": "python3"
  },
  "language_info": {
   "codemirror_mode": {
    "name": "ipython",
    "version": 3
   },
   "file_extension": ".py",
   "mimetype": "text/x-python",
   "name": "python",
   "nbconvert_exporter": "python",
   "pygments_lexer": "ipython3",
   "version": "3.9.13"
  }
 },
 "nbformat": 4,
 "nbformat_minor": 5
}
